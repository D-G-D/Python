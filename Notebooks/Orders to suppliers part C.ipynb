{
 "cells": [
  {
   "cell_type": "markdown",
   "id": "1bed2f90",
   "metadata": {},
   "source": [
    "# [PY-04E] Orders to suppliers (Part C)"
   ]
  },
  {
   "cell_type": "code",
   "execution_count": 1,
   "id": "a2abccd1",
   "metadata": {},
   "outputs": [],
   "source": [
    "components = ('cabling', 'processorr', 'memory', 'camera', 'network interface', 'battery', 'charger', 'high_resolution_screen')\n",
    "quantity = ('1', '4', '1', '6', '1', '2', '1', '1')\n",
    "regional = (True, False, False, False, False, True, False, False)\n",
    "labels = ['M04-EU-3000', 'M04-NA-10000']"
   ]
  },
  {
   "cell_type": "markdown",
   "id": "0ee822af",
   "metadata": {},
   "source": [
    "## Fix the first label, as there has been an error. The label should be M04-EU-4000."
   ]
  },
  {
   "cell_type": "markdown",
   "id": "36d71057",
   "metadata": {},
   "source": [
    "`labels` is a list with the order labels that have been received."
   ]
  },
  {
   "cell_type": "code",
   "execution_count": 2,
   "id": "3edefe78",
   "metadata": {},
   "outputs": [
    {
     "data": {
      "text/plain": [
       "'M04-EU-3000'"
      ]
     },
     "execution_count": 2,
     "metadata": {},
     "output_type": "execute_result"
    }
   ],
   "source": [
    "labels[0]"
   ]
  },
  {
   "cell_type": "code",
   "execution_count": 3,
   "id": "3c89b087",
   "metadata": {},
   "outputs": [],
   "source": [
    "labels[0] = 'M04-EU-4000'"
   ]
  },
  {
   "cell_type": "code",
   "execution_count": 4,
   "id": "19bf0513",
   "metadata": {},
   "outputs": [
    {
     "data": {
      "text/plain": [
       "['M04-EU-4000', 'M04-NA-10000']"
      ]
     },
     "execution_count": 4,
     "metadata": {},
     "output_type": "execute_result"
    }
   ],
   "source": [
    "labels"
   ]
  },
  {
   "cell_type": "markdown",
   "id": "1a3997d4",
   "metadata": {},
   "source": [
    "## Fix the typo in the word \"processor\" in components."
   ]
  },
  {
   "cell_type": "code",
   "execution_count": 5,
   "id": "25a11f35",
   "metadata": {},
   "outputs": [
    {
     "data": {
      "text/plain": [
       "'processorr'"
      ]
     },
     "execution_count": 5,
     "metadata": {},
     "output_type": "execute_result"
    }
   ],
   "source": [
    "components[1]"
   ]
  },
  {
   "cell_type": "code",
   "execution_count": 6,
   "id": "82249c4d",
   "metadata": {},
   "outputs": [
    {
     "ename": "TypeError",
     "evalue": "'tuple' object does not support item assignment",
     "output_type": "error",
     "traceback": [
      "\u001b[1;31m---------------------------------------------------------------------------\u001b[0m",
      "\u001b[1;31mTypeError\u001b[0m                                 Traceback (most recent call last)",
      "Cell \u001b[1;32mIn[6], line 1\u001b[0m\n\u001b[1;32m----> 1\u001b[0m components[\u001b[38;5;241m1\u001b[39m] \u001b[38;5;241m=\u001b[39m \u001b[38;5;124m'\u001b[39m\u001b[38;5;124mprocessor\u001b[39m\u001b[38;5;124m'\u001b[39m\n",
      "\u001b[1;31mTypeError\u001b[0m: 'tuple' object does not support item assignment"
     ]
    }
   ],
   "source": [
    "components[1] = 'processor'"
   ]
  },
  {
   "cell_type": "markdown",
   "id": "a48bcd77",
   "metadata": {},
   "source": [
    "`components`, `quantity`, and `regional` are tuples: we cannot modify existing elements. Changing them requires re-definition of the tuple."
   ]
  },
  {
   "cell_type": "code",
   "execution_count": null,
   "id": "966c9c2f",
   "metadata": {},
   "outputs": [],
   "source": [
    "components = ('cabling', 'processor', 'memory', 'camera', 'network interface', 'battery', 'charger', 'high_resolution_screen')"
   ]
  },
  {
   "cell_type": "code",
   "execution_count": 7,
   "id": "af7e056b",
   "metadata": {},
   "outputs": [
    {
     "data": {
      "text/plain": [
       "'processorr'"
      ]
     },
     "execution_count": 7,
     "metadata": {},
     "output_type": "execute_result"
    }
   ],
   "source": [
    "components[1]"
   ]
  },
  {
   "cell_type": "markdown",
   "id": "bb5bf08b",
   "metadata": {},
   "source": [
    "## Create a new list with the models, number of required units and the countries."
   ]
  },
  {
   "cell_type": "code",
   "execution_count": 8,
   "id": "020ea3c3",
   "metadata": {},
   "outputs": [
    {
     "data": {
      "text/plain": [
       "2"
      ]
     },
     "execution_count": 8,
     "metadata": {},
     "output_type": "execute_result"
    }
   ],
   "source": [
    "len(labels)"
   ]
  },
  {
   "cell_type": "markdown",
   "id": "916b0343",
   "metadata": {},
   "source": [
    "The model are the first three characters:"
   ]
  },
  {
   "cell_type": "code",
   "execution_count": 9,
   "id": "9160dc97",
   "metadata": {},
   "outputs": [
    {
     "data": {
      "text/plain": [
       "['M04-EU-4000', 'M04-NA-10000']"
      ]
     },
     "execution_count": 9,
     "metadata": {},
     "output_type": "execute_result"
    }
   ],
   "source": [
    "labels[:3]"
   ]
  },
  {
   "cell_type": "markdown",
   "id": "d56f6104",
   "metadata": {},
   "source": [
    "Oops. Labels contains a list of labels, not a label. Thus, `[:3]` is accessing the lements in the list, not the characters in the label. Let's take the first label:"
   ]
  },
  {
   "cell_type": "code",
   "execution_count": 10,
   "id": "3ab33531",
   "metadata": {},
   "outputs": [
    {
     "data": {
      "text/plain": [
       "'M04-EU-4000'"
      ]
     },
     "execution_count": 10,
     "metadata": {},
     "output_type": "execute_result"
    }
   ],
   "source": [
    "first_label = labels[0]\n",
    "first_label"
   ]
  },
  {
   "cell_type": "code",
   "execution_count": 11,
   "id": "c02bd0b1",
   "metadata": {},
   "outputs": [
    {
     "data": {
      "text/plain": [
       "'M04'"
      ]
     },
     "execution_count": 11,
     "metadata": {},
     "output_type": "execute_result"
    }
   ],
   "source": [
    "first_label[:3]"
   ]
  },
  {
   "cell_type": "markdown",
   "id": "05f73c18",
   "metadata": {},
   "source": [
    "We can access the first element, and then the specific characters in just one line:"
   ]
  },
  {
   "cell_type": "code",
   "execution_count": 12,
   "id": "8979428a",
   "metadata": {},
   "outputs": [
    {
     "data": {
      "text/plain": [
       "'M04'"
      ]
     },
     "execution_count": 12,
     "metadata": {},
     "output_type": "execute_result"
    }
   ],
   "source": [
    "labels[0][:3]"
   ]
  },
  {
   "cell_type": "code",
   "execution_count": 13,
   "id": "568935f0",
   "metadata": {},
   "outputs": [],
   "source": [
    "required_model = []"
   ]
  },
  {
   "cell_type": "code",
   "execution_count": 14,
   "id": "325e2fd6",
   "metadata": {},
   "outputs": [
    {
     "data": {
      "text/plain": [
       "0"
      ]
     },
     "execution_count": 14,
     "metadata": {},
     "output_type": "execute_result"
    }
   ],
   "source": [
    "len(required_model)"
   ]
  },
  {
   "cell_type": "code",
   "execution_count": 15,
   "id": "43c0be80",
   "metadata": {},
   "outputs": [
    {
     "ename": "TypeError",
     "evalue": "can only concatenate list (not \"str\") to list",
     "output_type": "error",
     "traceback": [
      "\u001b[1;31m---------------------------------------------------------------------------\u001b[0m",
      "\u001b[1;31mTypeError\u001b[0m                                 Traceback (most recent call last)",
      "Cell \u001b[1;32mIn[15], line 1\u001b[0m\n\u001b[1;32m----> 1\u001b[0m required_model \u001b[38;5;241m=\u001b[39m required_model \u001b[38;5;241m+\u001b[39m labels[\u001b[38;5;241m0\u001b[39m][:\u001b[38;5;241m3\u001b[39m]\n",
      "\u001b[1;31mTypeError\u001b[0m: can only concatenate list (not \"str\") to list"
     ]
    }
   ],
   "source": [
    "required_model = required_model + labels[0][:3]"
   ]
  },
  {
   "cell_type": "markdown",
   "id": "07524cbc",
   "metadata": {},
   "source": [
    "To add elements to a list (even an empty one), the elements must be in a list. We can add brackets to turn the result into a list."
   ]
  },
  {
   "cell_type": "code",
   "execution_count": 16,
   "id": "949cbc14",
   "metadata": {},
   "outputs": [
    {
     "data": {
      "text/plain": [
       "['M04', 'M04']"
      ]
     },
     "execution_count": 16,
     "metadata": {},
     "output_type": "execute_result"
    }
   ],
   "source": [
    "required_model = required_model + [labels[0][:3]] + [labels[1][:3]]\n",
    "required_model"
   ]
  },
  {
   "cell_type": "markdown",
   "id": "b997caed",
   "metadata": {},
   "source": [
    "We can also create it directly without an initial empty list:"
   ]
  },
  {
   "cell_type": "code",
   "execution_count": 17,
   "id": "7ec299bc",
   "metadata": {},
   "outputs": [
    {
     "data": {
      "text/plain": [
       "['EU', 'NA']"
      ]
     },
     "execution_count": 17,
     "metadata": {},
     "output_type": "execute_result"
    }
   ],
   "source": [
    "required_location = [labels[0][4:6], labels[1][4:6]]\n",
    "required_location"
   ]
  },
  {
   "cell_type": "code",
   "execution_count": 18,
   "id": "eb081e9d",
   "metadata": {},
   "outputs": [
    {
     "data": {
      "text/plain": [
       "['4000', '10000']"
      ]
     },
     "execution_count": 18,
     "metadata": {},
     "output_type": "execute_result"
    }
   ],
   "source": [
    "required_units = [labels[0][7:], labels[1][7:]]\n",
    "required_units"
   ]
  },
  {
   "cell_type": "markdown",
   "id": "813a3728",
   "metadata": {},
   "source": [
    "## Check if model M03 and M04 are in the required models"
   ]
  },
  {
   "cell_type": "code",
   "execution_count": 19,
   "id": "1728971e",
   "metadata": {},
   "outputs": [
    {
     "data": {
      "text/plain": [
       "['M04', 'M04']"
      ]
     },
     "execution_count": 19,
     "metadata": {},
     "output_type": "execute_result"
    }
   ],
   "source": [
    "required_model"
   ]
  },
  {
   "cell_type": "code",
   "execution_count": 20,
   "id": "211e02dc",
   "metadata": {},
   "outputs": [
    {
     "data": {
      "text/plain": [
       "False"
      ]
     },
     "execution_count": 20,
     "metadata": {},
     "output_type": "execute_result"
    }
   ],
   "source": [
    "'M03' in required_model"
   ]
  },
  {
   "cell_type": "code",
   "execution_count": 21,
   "id": "beb975b1",
   "metadata": {},
   "outputs": [
    {
     "data": {
      "text/plain": [
       "True"
      ]
     },
     "execution_count": 21,
     "metadata": {},
     "output_type": "execute_result"
    }
   ],
   "source": [
    "'M04' in required_model"
   ]
  },
  {
   "cell_type": "markdown",
   "id": "e2ea4e49",
   "metadata": {},
   "source": [
    "If we want the negation, it's recommended to have it before the in, rather than negating the overall expression:"
   ]
  },
  {
   "cell_type": "code",
   "execution_count": 22,
   "id": "fa6c7b36",
   "metadata": {},
   "outputs": [
    {
     "data": {
      "text/plain": [
       "True"
      ]
     },
     "execution_count": 22,
     "metadata": {},
     "output_type": "execute_result"
    }
   ],
   "source": [
    "'M03' not in required_model"
   ]
  },
  {
   "cell_type": "markdown",
   "id": "5fae741a",
   "metadata": {},
   "source": [
    "## Create a dictionary with components and quantity required to build the component"
   ]
  },
  {
   "cell_type": "code",
   "execution_count": 23,
   "id": "6e565c47",
   "metadata": {},
   "outputs": [
    {
     "data": {
      "text/plain": [
       "{'cabling': 1,\n",
       " 'processor': 4,\n",
       " 'memory': 1,\n",
       " 'camera': 6,\n",
       " 'network interface': 1,\n",
       " 'battery': 2,\n",
       " 'charger': 1,\n",
       " 'high_resolution_screen': 1}"
      ]
     },
     "execution_count": 23,
     "metadata": {},
     "output_type": "execute_result"
    }
   ],
   "source": [
    "# Option 1:\n",
    "schematics = {'cabling':1, \n",
    "              'processor':4, \n",
    "              'memory':1, \n",
    "              'camera':6, \n",
    "              'network interface':1, \n",
    "              'battery':2, \n",
    "              'charger':1, \n",
    "              'high_resolution_screen':1}\n",
    "schematics"
   ]
  },
  {
   "cell_type": "code",
   "execution_count": 24,
   "id": "f7de94d3",
   "metadata": {},
   "outputs": [
    {
     "data": {
      "text/plain": [
       "{}"
      ]
     },
     "execution_count": 24,
     "metadata": {},
     "output_type": "execute_result"
    }
   ],
   "source": [
    "# Option 2:\n",
    "schematics = {}\n",
    "schematics"
   ]
  },
  {
   "cell_type": "code",
   "execution_count": 25,
   "id": "9d417da3",
   "metadata": {},
   "outputs": [
    {
     "data": {
      "text/plain": [
       "{'cabling': 1,\n",
       " 'processor': 4,\n",
       " 'memory': 1,\n",
       " 'camera': 6,\n",
       " 'network interface': 1,\n",
       " 'battery': 2,\n",
       " 'charger': 1,\n",
       " 'high_resolution_screen': 1}"
      ]
     },
     "execution_count": 25,
     "metadata": {},
     "output_type": "execute_result"
    }
   ],
   "source": [
    "schematics['cabling'] = 1\n",
    "schematics['processor'] = 4\n",
    "schematics['memory'] = 1\n",
    "schematics['camera'] = 6\n",
    "schematics['network interface'] = 1\n",
    "schematics['battery'] = 2\n",
    "schematics['charger'] = 1\n",
    "schematics['high_resolution_screen'] = 1\n",
    "schematics"
   ]
  },
  {
   "cell_type": "code",
   "execution_count": 26,
   "id": "99f2dc41",
   "metadata": {},
   "outputs": [
    {
     "data": {
      "text/plain": [
       "{}"
      ]
     },
     "execution_count": 26,
     "metadata": {},
     "output_type": "execute_result"
    }
   ],
   "source": [
    "# Option 3:\n",
    "schematics = {}\n",
    "schematics"
   ]
  },
  {
   "cell_type": "code",
   "execution_count": 27,
   "id": "1c2f1b0e",
   "metadata": {},
   "outputs": [
    {
     "data": {
      "text/plain": [
       "{'cabling': '1',\n",
       " 'processorr': '4',\n",
       " 'memory': '1',\n",
       " 'camera': '6',\n",
       " 'network interface': '1',\n",
       " 'battery': '2',\n",
       " 'charger': '1',\n",
       " 'high_resolution_screen': '1'}"
      ]
     },
     "execution_count": 27,
     "metadata": {},
     "output_type": "execute_result"
    }
   ],
   "source": [
    "schematics[components[0]] = quantity[0]\n",
    "schematics[components[1]] = quantity[1]\n",
    "schematics[components[2]] = quantity[2]\n",
    "schematics[components[3]] = quantity[3]\n",
    "schematics[components[4]] = quantity[4]\n",
    "schematics[components[5]] = quantity[5]\n",
    "schematics[components[6]] = quantity[6]\n",
    "schematics[components[7]] = quantity[7]\n",
    "schematics"
   ]
  },
  {
   "cell_type": "code",
   "execution_count": 28,
   "id": "3ebb47d6",
   "metadata": {},
   "outputs": [
    {
     "data": {
      "text/plain": [
       "dict_keys(['cabling', 'processorr', 'memory', 'camera', 'network interface', 'battery', 'charger', 'high_resolution_screen'])"
      ]
     },
     "execution_count": 28,
     "metadata": {},
     "output_type": "execute_result"
    }
   ],
   "source": [
    "schematics.keys()"
   ]
  },
  {
   "cell_type": "code",
   "execution_count": 29,
   "id": "70f5f6cc",
   "metadata": {},
   "outputs": [
    {
     "data": {
      "text/plain": [
       "dict_values(['1', '4', '1', '6', '1', '2', '1', '1'])"
      ]
     },
     "execution_count": 29,
     "metadata": {},
     "output_type": "execute_result"
    }
   ],
   "source": [
    "schematics.values()"
   ]
  },
  {
   "cell_type": "code",
   "execution_count": 30,
   "id": "35817372",
   "metadata": {},
   "outputs": [
    {
     "data": {
      "text/plain": [
       "{'cabling': '1',\n",
       " 'processorr': '4',\n",
       " 'memory': '1',\n",
       " 'camera': '6',\n",
       " 'network interface': '1',\n",
       " 'battery': '2',\n",
       " 'charger': '1',\n",
       " 'high_resolution_screen': '1'}"
      ]
     },
     "execution_count": 30,
     "metadata": {},
     "output_type": "execute_result"
    }
   ],
   "source": [
    "dict(zip(components, quantity))"
   ]
  },
  {
   "cell_type": "markdown",
   "id": "f885a9d2",
   "metadata": {},
   "source": [
    "## Create a dictionary with components and quantity required to fulfill the orders"
   ]
  },
  {
   "cell_type": "code",
   "execution_count": 31,
   "id": "2198606f",
   "metadata": {},
   "outputs": [
    {
     "data": {
      "text/plain": [
       "'EU'"
      ]
     },
     "execution_count": 31,
     "metadata": {},
     "output_type": "execute_result"
    }
   ],
   "source": [
    "required_location[0]"
   ]
  },
  {
   "cell_type": "code",
   "execution_count": 32,
   "id": "40f25b00",
   "metadata": {},
   "outputs": [
    {
     "data": {
      "text/plain": [
       "'4000'"
      ]
     },
     "execution_count": 32,
     "metadata": {},
     "output_type": "execute_result"
    }
   ],
   "source": [
    "required_units[0]"
   ]
  },
  {
   "cell_type": "code",
   "execution_count": 33,
   "id": "c3117aaa",
   "metadata": {},
   "outputs": [
    {
     "data": {
      "text/plain": [
       "{'cabling': 4000,\n",
       " 'processorr': 16000,\n",
       " 'memory': 4000,\n",
       " 'camera': 24000,\n",
       " 'network interface': 4000,\n",
       " 'battery': 8000,\n",
       " 'charger': 4000,\n",
       " 'high_resolution_screen': 4000}"
      ]
     },
     "execution_count": 33,
     "metadata": {},
     "output_type": "execute_result"
    }
   ],
   "source": [
    "eu_order = {}\n",
    "eu_index = 0\n",
    "eu_order[components[0]] = int(quantity[0]) * int(required_units[eu_index])\n",
    "eu_order[components[1]] = int(quantity[1]) * int(required_units[eu_index])\n",
    "eu_order[components[2]] = int(quantity[2]) * int(required_units[eu_index])\n",
    "eu_order[components[3]] = int(quantity[3]) * int(required_units[eu_index])\n",
    "eu_order[components[4]] = int(quantity[4]) * int(required_units[eu_index])\n",
    "eu_order[components[5]] = int(quantity[5]) * int(required_units[eu_index])\n",
    "eu_order[components[6]] = int(quantity[6]) * int(required_units[eu_index])\n",
    "eu_order[components[7]] = int(quantity[7]) * int(required_units[eu_index])\n",
    "eu_order"
   ]
  },
  {
   "cell_type": "code",
   "execution_count": 34,
   "id": "31daaf83",
   "metadata": {},
   "outputs": [],
   "source": [
    "def generate_order(components, quantity, required_units, index):\n",
    "    order = {}\n",
    "    order[components[0]] = int(quantity[0]) * int(required_units[index])\n",
    "    order[components[1]] = int(quantity[1]) * int(required_units[index])\n",
    "    order[components[2]] = int(quantity[2]) * int(required_units[index])\n",
    "    order[components[3]] = int(quantity[3]) * int(required_units[index])\n",
    "    order[components[4]] = int(quantity[4]) * int(required_units[index])\n",
    "    order[components[5]] = int(quantity[5]) * int(required_units[index])\n",
    "    order[components[6]] = int(quantity[6]) * int(required_units[index])\n",
    "    order[components[7]] = int(quantity[7]) * int(required_units[index])\n",
    "    return order"
   ]
  },
  {
   "cell_type": "code",
   "execution_count": 35,
   "id": "09aaf9d1",
   "metadata": {},
   "outputs": [],
   "source": [
    "eu_index = 0\n",
    "na_index = 1\n",
    "eu_order = generate_order(components, quantity, required_units, eu_index)\n",
    "na_order = generate_order(components, quantity, required_units, na_index)"
   ]
  },
  {
   "cell_type": "code",
   "execution_count": 36,
   "id": "05513655",
   "metadata": {},
   "outputs": [
    {
     "data": {
      "text/plain": [
       "{'cabling': 4000,\n",
       " 'processorr': 16000,\n",
       " 'memory': 4000,\n",
       " 'camera': 24000,\n",
       " 'network interface': 4000,\n",
       " 'battery': 8000,\n",
       " 'charger': 4000,\n",
       " 'high_resolution_screen': 4000}"
      ]
     },
     "execution_count": 36,
     "metadata": {},
     "output_type": "execute_result"
    }
   ],
   "source": [
    "eu_order"
   ]
  },
  {
   "cell_type": "code",
   "execution_count": 37,
   "id": "d400b17a",
   "metadata": {},
   "outputs": [
    {
     "data": {
      "text/plain": [
       "{'cabling': 10000,\n",
       " 'processorr': 40000,\n",
       " 'memory': 10000,\n",
       " 'camera': 60000,\n",
       " 'network interface': 10000,\n",
       " 'battery': 20000,\n",
       " 'charger': 10000,\n",
       " 'high_resolution_screen': 10000}"
      ]
     },
     "execution_count": 37,
     "metadata": {},
     "output_type": "execute_result"
    }
   ],
   "source": [
    "na_order"
   ]
  }
 ],
 "metadata": {
  "kernelspec": {
   "display_name": "Python 3 (ipykernel)",
   "language": "python",
   "name": "python3"
  },
  "language_info": {
   "codemirror_mode": {
    "name": "ipython",
    "version": 3
   },
   "file_extension": ".py",
   "mimetype": "text/x-python",
   "name": "python",
   "nbconvert_exporter": "python",
   "pygments_lexer": "ipython3",
   "version": "3.11.5"
  }
 },
 "nbformat": 4,
 "nbformat_minor": 5
}
