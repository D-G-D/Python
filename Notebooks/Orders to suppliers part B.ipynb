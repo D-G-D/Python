{
 "cells": [
  {
   "cell_type": "markdown",
   "id": "a7271172",
   "metadata": {},
   "source": [
    "# [PY-03E] Orders to suppliers (Part B)"
   ]
  },
  {
   "cell_type": "markdown",
   "id": "dce10068",
   "metadata": {},
   "source": [
    "## Using a function, recalculate the average cost per unit for EU devices."
   ]
  },
  {
   "cell_type": "markdown",
   "id": "7cce7eb7",
   "metadata": {},
   "source": [
    "The shortest way to obtain the average cost per unit is to operate on the numbers:"
   ]
  },
  {
   "cell_type": "code",
   "execution_count": 1,
   "id": "6259a177",
   "metadata": {},
   "outputs": [
    {
     "data": {
      "text/plain": [
       "239.17"
      ]
     },
     "execution_count": 1,
     "metadata": {},
     "output_type": "execute_result"
    }
   ],
   "source": [
    "round((952000 + 1200550) / (4000 + 5000), 2)"
   ]
  },
  {
   "cell_type": "markdown",
   "id": "b83feba2",
   "metadata": {},
   "source": [
    "This is innefficient as every time we want to update our calculation we need to locate which number needs to change and update it, risking changing the logic of the calculation. We can separate the logic and numbers thanks to variables:"
   ]
  },
  {
   "cell_type": "code",
   "execution_count": 2,
   "id": "d07f1f1f",
   "metadata": {},
   "outputs": [],
   "source": [
    "unitsA = 4000\n",
    "unitsB = 5000\n",
    "amountA = 952000\n",
    "amountB = 1200550"
   ]
  },
  {
   "cell_type": "code",
   "execution_count": 3,
   "id": "3ac6e4f8",
   "metadata": {},
   "outputs": [
    {
     "data": {
      "text/plain": [
       "239.17"
      ]
     },
     "execution_count": 3,
     "metadata": {},
     "output_type": "execute_result"
    }
   ],
   "source": [
    "total_units = unitsA + unitsB\n",
    "total_amount = amountA + amountB\n",
    "avg_cost_unit = total_amount / total_units\n",
    "round(avg_cost_unit, 2)"
   ]
  },
  {
   "cell_type": "markdown",
   "id": "f6e5834b",
   "metadata": {},
   "source": [
    "Next, if we want to regularly repeat the same calculation we can define a *function*:"
   ]
  },
  {
   "cell_type": "code",
   "execution_count": 4,
   "id": "24fdc1d2",
   "metadata": {},
   "outputs": [],
   "source": [
    "def calculate_cost_unit(unitsA, amountA, unitsB, amountB):\n",
    "    total_units = unitsA + unitsB\n",
    "    total_amount = amountA + amountB\n",
    "    avg_cost_unit = total_amount / total_units\n",
    "    return avg_cost_unit"
   ]
  },
  {
   "cell_type": "code",
   "execution_count": 5,
   "id": "261b60ee",
   "metadata": {},
   "outputs": [
    {
     "data": {
      "text/plain": [
       "239.17"
      ]
     },
     "execution_count": 5,
     "metadata": {},
     "output_type": "execute_result"
    }
   ],
   "source": [
    "avg_cost_unit = calculate_cost_unit(4000, 952000, 5000, 1200550)\n",
    "round(avg_cost_unit, 2)"
   ]
  },
  {
   "cell_type": "code",
   "execution_count": 6,
   "id": "f222fae3",
   "metadata": {},
   "outputs": [
    {
     "data": {
      "text/plain": [
       "239.17"
      ]
     },
     "execution_count": 6,
     "metadata": {},
     "output_type": "execute_result"
    }
   ],
   "source": [
    "avg_cost_unit = calculate_cost_unit(unitsA, amountA, unitsB, amountB)\n",
    "round(avg_cost_unit, 2)"
   ]
  },
  {
   "cell_type": "markdown",
   "id": "d89067f3",
   "metadata": {},
   "source": [
    "We can re-order the arguments, but then we need to specify the name for starting on the first out-of-place argument:"
   ]
  },
  {
   "cell_type": "code",
   "execution_count": 7,
   "id": "a0ccf1e5",
   "metadata": {},
   "outputs": [
    {
     "ename": "SyntaxError",
     "evalue": "positional argument follows keyword argument (84568622.py, line 1)",
     "output_type": "error",
     "traceback": [
      "\u001b[1;36m  Cell \u001b[1;32mIn[7], line 1\u001b[1;36m\u001b[0m\n\u001b[1;33m    avg_cost_unit = calculate_cost_unit(4000, unitsB=5000, amountA=952000, 1200550)\u001b[0m\n\u001b[1;37m                                                                                  ^\u001b[0m\n\u001b[1;31mSyntaxError\u001b[0m\u001b[1;31m:\u001b[0m positional argument follows keyword argument\n"
     ]
    }
   ],
   "source": [
    "avg_cost_unit = calculate_cost_unit(4000, unitsB=5000, amountA=952000, 1200550)\n",
    "round(avg_cost_unit, 2)"
   ]
  },
  {
   "cell_type": "code",
   "execution_count": 8,
   "id": "15c50783",
   "metadata": {},
   "outputs": [
    {
     "data": {
      "text/plain": [
       "239.17"
      ]
     },
     "execution_count": 8,
     "metadata": {},
     "output_type": "execute_result"
    }
   ],
   "source": [
    "avg_cost_unit = calculate_cost_unit(4000, unitsB=5000, amountA=952000, amountB=1200550)\n",
    "round(avg_cost_unit, 2)"
   ]
  },
  {
   "cell_type": "code",
   "execution_count": 9,
   "id": "b2e2d242",
   "metadata": {},
   "outputs": [
    {
     "data": {
      "text/plain": [
       "239.17"
      ]
     },
     "execution_count": 9,
     "metadata": {},
     "output_type": "execute_result"
    }
   ],
   "source": [
    "avg_cost_unit = calculate_cost_unit(unitsA=4000, unitsB=5000, amountA=952000, amountB=1200550)\n",
    "round(avg_cost_unit, 2)"
   ]
  },
  {
   "cell_type": "markdown",
   "id": "315b69cc",
   "metadata": {},
   "source": [
    "## Use the function for NA."
   ]
  },
  {
   "cell_type": "code",
   "execution_count": 10,
   "id": "0d7dd8a0",
   "metadata": {},
   "outputs": [
    {
     "data": {
      "text/plain": [
       "238.44"
      ]
     },
     "execution_count": 10,
     "metadata": {},
     "output_type": "execute_result"
    }
   ],
   "source": [
    "round(2384400 / 10000, 2)"
   ]
  },
  {
   "cell_type": "markdown",
   "id": "4e63c737",
   "metadata": {},
   "source": [
    "We don't need to redefine the function, but we have to change the values of the arguments:"
   ]
  },
  {
   "cell_type": "code",
   "execution_count": 11,
   "id": "d12e596a",
   "metadata": {},
   "outputs": [],
   "source": [
    "unitsA = 10000\n",
    "unitsB = 0\n",
    "amountA = 2384400\n",
    "amountB = 0"
   ]
  },
  {
   "cell_type": "code",
   "execution_count": 12,
   "id": "dc823469",
   "metadata": {},
   "outputs": [
    {
     "data": {
      "text/plain": [
       "238.44"
      ]
     },
     "execution_count": 12,
     "metadata": {},
     "output_type": "execute_result"
    }
   ],
   "source": [
    "avg_cost_unit = calculate_cost_unit(unitsA, amountA, unitsB, amountB)\n",
    "round(avg_cost_unit, 2)"
   ]
  },
  {
   "cell_type": "markdown",
   "id": "bcd3ea87",
   "metadata": {},
   "source": [
    "We would want the function to have either 2 or 4 parameters depending on the number of orders. We can redefine the function using default parameters:"
   ]
  },
  {
   "cell_type": "code",
   "execution_count": 13,
   "id": "2077d87e",
   "metadata": {},
   "outputs": [],
   "source": [
    "def calculate_cost_unit(unitsA, amountA, unitsB=0, amountB=0):\n",
    "    total_units = unitsA + unitsB\n",
    "    total_amount = amountA + amountB\n",
    "    avg_cost_unit = total_amount / total_units\n",
    "    return avg_cost_unit"
   ]
  },
  {
   "cell_type": "code",
   "execution_count": 14,
   "id": "3297f80f",
   "metadata": {},
   "outputs": [
    {
     "data": {
      "text/plain": [
       "238.44"
      ]
     },
     "execution_count": 14,
     "metadata": {},
     "output_type": "execute_result"
    }
   ],
   "source": [
    "unitsA = 10000\n",
    "amountA = 2384400\n",
    "round(calculate_cost_unit(unitsA, amountA), 2)"
   ]
  },
  {
   "cell_type": "markdown",
   "id": "11451912",
   "metadata": {},
   "source": [
    "The redefined function still works for EU orders:"
   ]
  },
  {
   "cell_type": "code",
   "execution_count": 15,
   "id": "a0a2fee9",
   "metadata": {},
   "outputs": [
    {
     "data": {
      "text/plain": [
       "239.17"
      ]
     },
     "execution_count": 15,
     "metadata": {},
     "output_type": "execute_result"
    }
   ],
   "source": [
    "unitsA = 4000\n",
    "unitsB = 5000\n",
    "amountA = 952000\n",
    "amountB = 1200550\n",
    "round(calculate_cost_unit(unitsA, amountA, unitsB, amountB), 2)"
   ]
  },
  {
   "cell_type": "markdown",
   "id": "b096293c",
   "metadata": {},
   "source": [
    "## Create a function to print on screen the two lables required for shipping."
   ]
  },
  {
   "cell_type": "code",
   "execution_count": 16,
   "id": "ad0fff2a",
   "metadata": {},
   "outputs": [],
   "source": [
    "unit_type = 'M04'\n",
    "location = 'JP'\n",
    "n_units = '5000'"
   ]
  },
  {
   "cell_type": "code",
   "execution_count": 17,
   "id": "6ddd9a63",
   "metadata": {},
   "outputs": [
    {
     "data": {
      "text/plain": [
       "'M04-JP-5000'"
      ]
     },
     "execution_count": 17,
     "metadata": {},
     "output_type": "execute_result"
    }
   ],
   "source": [
    "label1 = unit_type + '-' + location + '-' + n_units\n",
    "label1"
   ]
  },
  {
   "cell_type": "code",
   "execution_count": 18,
   "id": "cbb32bc8",
   "metadata": {},
   "outputs": [
    {
     "data": {
      "text/plain": [
       "'m04jp5000'"
      ]
     },
     "execution_count": 18,
     "metadata": {},
     "output_type": "execute_result"
    }
   ],
   "source": [
    "label2 = unit_type.lower() + location.lower() + n_units.lower()\n",
    "label2"
   ]
  },
  {
   "cell_type": "code",
   "execution_count": 19,
   "id": "90053f7b",
   "metadata": {},
   "outputs": [
    {
     "data": {
      "text/plain": [
       "'m04jp5000'"
      ]
     },
     "execution_count": 19,
     "metadata": {},
     "output_type": "execute_result"
    }
   ],
   "source": [
    "label2 = (unit_type + location + n_units).lower()\n",
    "label2"
   ]
  },
  {
   "cell_type": "code",
   "execution_count": 20,
   "id": "6b87df4a",
   "metadata": {},
   "outputs": [],
   "source": [
    "def print_labels(unit_type, location, n_units):\n",
    "    label1 = unit_type + '-' + location + '-' + n_units\n",
    "    label2 = unit_type.lower() + location.lower() + n_units.lower()\n",
    "    return label1, label2"
   ]
  },
  {
   "cell_type": "code",
   "execution_count": 21,
   "id": "26cc6b6d",
   "metadata": {},
   "outputs": [
    {
     "data": {
      "text/plain": [
       "('M04-JP-5000', 'm04jp5000')"
      ]
     },
     "execution_count": 21,
     "metadata": {},
     "output_type": "execute_result"
    }
   ],
   "source": [
    "print_labels(unit_type, location, n_units)"
   ]
  },
  {
   "cell_type": "code",
   "execution_count": 22,
   "id": "5b039831",
   "metadata": {},
   "outputs": [],
   "source": [
    "def print_labels(unit_type, location, n_units):\n",
    "    label1 = unit_type + '-' + location + '-' + n_units\n",
    "    print('Label 1: ' + label1)\n",
    "    label2 = unit_type.lower() + location.lower() + n_units.lower()\n",
    "    print('Label 2: ' + label2)"
   ]
  },
  {
   "cell_type": "code",
   "execution_count": 23,
   "id": "5f3b2261",
   "metadata": {},
   "outputs": [
    {
     "name": "stdout",
     "output_type": "stream",
     "text": [
      "Label 1: M04-JP-5000\n",
      "Label 2: m04jp5000\n"
     ]
    }
   ],
   "source": [
    "print_labels(unit_type, location, n_units)"
   ]
  }
 ],
 "metadata": {
  "kernelspec": {
   "display_name": "Python 3 (ipykernel)",
   "language": "python",
   "name": "python3"
  },
  "language_info": {
   "codemirror_mode": {
    "name": "ipython",
    "version": 3
   },
   "file_extension": ".py",
   "mimetype": "text/x-python",
   "name": "python",
   "nbconvert_exporter": "python",
   "pygments_lexer": "ipython3",
   "version": "3.11.5"
  }
 },
 "nbformat": 4,
 "nbformat_minor": 5
}
