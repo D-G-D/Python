{
 "cells": [
  {
   "cell_type": "markdown",
   "id": "b28e89a0",
   "metadata": {},
   "source": [
    "# [PY-08] Introduction to Pandas\n",
    "\n",
    "## The package Pandas\n",
    "\n",
    "**Pandas** is a library for managing data in tabular format, inspired in the statistical language R. It is not a simple toolkit, but a huge collection of functions and methods, covering practically anything that you may wish to do with data, often in multiple ways. Therefore, rather than on \"learning Pandas\", you should think on \"using Pandas\", learning on the way (maybe no more than what you need). \n",
    "\n",
    "This lecture, and the short tutorial contained, are just introductory. The two last lectures of the course present more advanced stuff, such as cleaning data sets, missing values, grouping and aggregating, basic stats, and plotting. Real data will be provided in separate examples.\n",
    "\n",
    "Pandas is typically imported as:"
   ]
  },
  {
   "cell_type": "code",
   "execution_count": 1,
   "id": "8f5efd42",
   "metadata": {},
   "outputs": [],
   "source": [
    "import pandas as pd"
   ]
  },
  {
   "cell_type": "markdown",
   "id": "d7b7fa6d",
   "metadata": {},
   "source": [
    "Pandas provides two data container classes, the series (one-dimensional) and the data frame (two-dimensional). A **series** is like a vector whose terms have names, while a **data frame** is like a table with row and column names. These classes address two shortcomings of NumPy arrays: (a) rows and, specially columns, don't have names, (b) there is a unique data type.\n",
    "\n",
    "A **series** has two components: a 1D array containing the **values** and a list containing **labels** for those values, called the **index**. These components can be extracted as the attributes `.values` and `.index`. A **data frame** has a third component, a list containing the **column names**, that can be extracted as the attribute `.columns`. The series has a data type, but the data frame does not. Instead, each column has its own data type. The numeric types work as usual, but Pandas uses the data type `object` for various things, in particular for strings.\n",
    "\n",
    "## Pandas series\n",
    "\n",
    "Although it is not frequent in the real world practice, where the data are imported from external data files, a Pandas series can be created directly with the Pandas function `Series()`. The data can be taken from a vector-like object such as a list or a 1D array."
   ]
  },
  {
   "cell_type": "code",
   "execution_count": 2,
   "id": "afd68897",
   "metadata": {},
   "outputs": [
    {
     "data": {
      "text/plain": [
       "0     2\n",
       "1     7\n",
       "2    14\n",
       "3     5\n",
       "4     9\n",
       "dtype: int64"
      ]
     },
     "execution_count": 2,
     "metadata": {},
     "output_type": "execute_result"
    }
   ],
   "source": [
    "s1 = pd.Series([2, 7, 14, 5, 9])\n",
    "s1"
   ]
  },
  {
   "cell_type": "markdown",
   "id": "7d6897dc",
   "metadata": {},
   "source": [
    "Now, the values of the series are extracted as a 1D array:"
   ]
  },
  {
   "cell_type": "code",
   "execution_count": 3,
   "id": "0e18b98a",
   "metadata": {},
   "outputs": [
    {
     "data": {
      "text/plain": [
       "array([ 2,  7, 14,  5,  9], dtype=int64)"
      ]
     },
     "execution_count": 3,
     "metadata": {},
     "output_type": "execute_result"
    }
   ],
   "source": [
    "s1.values"
   ]
  },
  {
   "cell_type": "markdown",
   "id": "d87db4a3",
   "metadata": {},
   "source": [
    "As shown above, when a series is printed, the index appears on the left. Since the index of `s1` has not been specified, a range of consecutive integers has been assigned to the index."
   ]
  },
  {
   "cell_type": "code",
   "execution_count": 4,
   "id": "b09572b9",
   "metadata": {},
   "outputs": [
    {
     "data": {
      "text/plain": [
       "RangeIndex(start=0, stop=5, step=1)"
      ]
     },
     "execution_count": 4,
     "metadata": {},
     "output_type": "execute_result"
    }
   ],
   "source": [
    "s1.index"
   ]
  },
  {
   "cell_type": "markdown",
   "id": "e04bb11c",
   "metadata": {},
   "source": [
    "When the data source mixes data types, a conversion to a common type is performed on the fly, as shown in the following example. Here, instead of letting the Python kernel to create an index automatically, as a `RangeIndex`, we provide an index directly:"
   ]
  },
  {
   "cell_type": "code",
   "execution_count": 5,
   "id": "d0cc0fb0",
   "metadata": {},
   "outputs": [
    {
     "data": {
      "text/plain": [
       "a        1\n",
       "b        5\n",
       "c    Messi\n",
       "dtype: object"
      ]
     },
     "execution_count": 5,
     "metadata": {},
     "output_type": "execute_result"
    }
   ],
   "source": [
    "s2 = pd.Series([1, 5, 'Messi'], index = ['a', 'b', 'c'])\n",
    "s2"
   ]
  },
  {
   "cell_type": "markdown",
   "id": "2c873b28",
   "metadata": {},
   "source": [
    "Now the index is a plain `Index`:"
   ]
  },
  {
   "cell_type": "code",
   "execution_count": 6,
   "id": "fc6037c3",
   "metadata": {},
   "outputs": [
    {
     "data": {
      "text/plain": [
       "Index(['a', 'b', 'c'], dtype='object')"
      ]
     },
     "execution_count": 6,
     "metadata": {},
     "output_type": "execute_result"
    }
   ],
   "source": [
    "s2.index"
   ]
  },
  {
   "cell_type": "markdown",
   "id": "eab89db1",
   "metadata": {},
   "source": [
    "Altough they are not the same thing, for many purposes a `RangeIndex` object works like a range, and an `Index` object works like a list. For instance, for slicing:"
   ]
  },
  {
   "cell_type": "code",
   "execution_count": 7,
   "id": "7452efa2",
   "metadata": {},
   "outputs": [
    {
     "data": {
      "text/plain": [
       "Index(['b', 'c'], dtype='object')"
      ]
     },
     "execution_count": 7,
     "metadata": {},
     "output_type": "execute_result"
    }
   ],
   "source": [
    "s2.index[-2:]"
   ]
  },
  {
   "cell_type": "markdown",
   "id": "4dd99b1e",
   "metadata": {},
   "source": [
    "Though Pandas allows duplicates in an index, good indexes should not have them, so rows can be identified by the index value. Indexes are useful for **filtering** and **joining** data sets. There are many types of indexes, which allow for specific operations. So, do not look at the index as an embarrassment, which is what it seems at first sight, but as a tool for data management.\n",
    "\n",
    "## Pandas data frames\n",
    "\n",
    "A Pandas **data frame** can be built in many ways with the Pandas function `DataFrame()`. For instance, from a dictionary of vector-like objects of the same length (including Pandas series). As an example, we revisit the biometric data used in the preceding lecture. We started with three lists, containing heights, weights and genders, respectively."
   ]
  },
  {
   "cell_type": "code",
   "execution_count": 8,
   "id": "c74f8c14",
   "metadata": {},
   "outputs": [],
   "source": [
    "height = [1.65, 1.73, 1.51, 1.63, 1.69, 1.7, 1.81, 1.66, 1.58, 1.66, 1.62, 1.81, 1.75, 1.65, 1.65]\n",
    "weight = [61.6, 59.5, 46.5, 75.3, 47.6, 80.2, 67.5, 64.1, 69.5, 57.0, 68.6, 69.3, 53.2, 66.1, 50.6]\n",
    "gender = ['M', 'M', 'F', 'F', 'M', 'F', 'M', 'F', 'F', 'M', 'F', 'M', 'F', 'M', 'M']"
   ]
  },
  {
   "cell_type": "markdown",
   "id": "be923a17",
   "metadata": {},
   "source": [
    "Now, we pack these lists as a data frame:"
   ]
  },
  {
   "cell_type": "code",
   "execution_count": 9,
   "id": "93df7aed",
   "metadata": {},
   "outputs": [
    {
     "data": {
      "text/html": [
       "<div>\n",
       "<style scoped>\n",
       "    .dataframe tbody tr th:only-of-type {\n",
       "        vertical-align: middle;\n",
       "    }\n",
       "\n",
       "    .dataframe tbody tr th {\n",
       "        vertical-align: top;\n",
       "    }\n",
       "\n",
       "    .dataframe thead th {\n",
       "        text-align: right;\n",
       "    }\n",
       "</style>\n",
       "<table border=\"1\" class=\"dataframe\">\n",
       "  <thead>\n",
       "    <tr style=\"text-align: right;\">\n",
       "      <th></th>\n",
       "      <th>height</th>\n",
       "      <th>weight</th>\n",
       "      <th>gender</th>\n",
       "    </tr>\n",
       "  </thead>\n",
       "  <tbody>\n",
       "    <tr>\n",
       "      <th>0</th>\n",
       "      <td>1.65</td>\n",
       "      <td>61.6</td>\n",
       "      <td>M</td>\n",
       "    </tr>\n",
       "    <tr>\n",
       "      <th>1</th>\n",
       "      <td>1.73</td>\n",
       "      <td>59.5</td>\n",
       "      <td>M</td>\n",
       "    </tr>\n",
       "    <tr>\n",
       "      <th>2</th>\n",
       "      <td>1.51</td>\n",
       "      <td>46.5</td>\n",
       "      <td>F</td>\n",
       "    </tr>\n",
       "    <tr>\n",
       "      <th>3</th>\n",
       "      <td>1.63</td>\n",
       "      <td>75.3</td>\n",
       "      <td>F</td>\n",
       "    </tr>\n",
       "    <tr>\n",
       "      <th>4</th>\n",
       "      <td>1.69</td>\n",
       "      <td>47.6</td>\n",
       "      <td>M</td>\n",
       "    </tr>\n",
       "    <tr>\n",
       "      <th>5</th>\n",
       "      <td>1.70</td>\n",
       "      <td>80.2</td>\n",
       "      <td>F</td>\n",
       "    </tr>\n",
       "    <tr>\n",
       "      <th>6</th>\n",
       "      <td>1.81</td>\n",
       "      <td>67.5</td>\n",
       "      <td>M</td>\n",
       "    </tr>\n",
       "    <tr>\n",
       "      <th>7</th>\n",
       "      <td>1.66</td>\n",
       "      <td>64.1</td>\n",
       "      <td>F</td>\n",
       "    </tr>\n",
       "    <tr>\n",
       "      <th>8</th>\n",
       "      <td>1.58</td>\n",
       "      <td>69.5</td>\n",
       "      <td>F</td>\n",
       "    </tr>\n",
       "    <tr>\n",
       "      <th>9</th>\n",
       "      <td>1.66</td>\n",
       "      <td>57.0</td>\n",
       "      <td>M</td>\n",
       "    </tr>\n",
       "    <tr>\n",
       "      <th>10</th>\n",
       "      <td>1.62</td>\n",
       "      <td>68.6</td>\n",
       "      <td>F</td>\n",
       "    </tr>\n",
       "    <tr>\n",
       "      <th>11</th>\n",
       "      <td>1.81</td>\n",
       "      <td>69.3</td>\n",
       "      <td>M</td>\n",
       "    </tr>\n",
       "    <tr>\n",
       "      <th>12</th>\n",
       "      <td>1.75</td>\n",
       "      <td>53.2</td>\n",
       "      <td>F</td>\n",
       "    </tr>\n",
       "    <tr>\n",
       "      <th>13</th>\n",
       "      <td>1.65</td>\n",
       "      <td>66.1</td>\n",
       "      <td>M</td>\n",
       "    </tr>\n",
       "    <tr>\n",
       "      <th>14</th>\n",
       "      <td>1.65</td>\n",
       "      <td>50.6</td>\n",
       "      <td>M</td>\n",
       "    </tr>\n",
       "  </tbody>\n",
       "</table>\n",
       "</div>"
      ],
      "text/plain": [
       "    height  weight gender\n",
       "0     1.65    61.6      M\n",
       "1     1.73    59.5      M\n",
       "2     1.51    46.5      F\n",
       "3     1.63    75.3      F\n",
       "4     1.69    47.6      M\n",
       "5     1.70    80.2      F\n",
       "6     1.81    67.5      M\n",
       "7     1.66    64.1      F\n",
       "8     1.58    69.5      F\n",
       "9     1.66    57.0      M\n",
       "10    1.62    68.6      F\n",
       "11    1.81    69.3      M\n",
       "12    1.75    53.2      F\n",
       "13    1.65    66.1      M\n",
       "14    1.65    50.6      M"
      ]
     },
     "execution_count": 9,
     "metadata": {},
     "output_type": "execute_result"
    }
   ],
   "source": [
    "bio = pd.DataFrame({'height': height, 'weight': weight, 'gender': gender})\n",
    "bio"
   ]
  },
  {
   "cell_type": "markdown",
   "id": "f412987d",
   "metadata": {},
   "source": [
    "Note that here, `height` was a list, while `'height'` is the name that we give to the first column in the new data frame. We could have chosen a different name. The same for the other two columns. \n",
    "\n",
    "The index is printed on the left, as for a series. Without an explicit specification, the index is automatically created as a range index. "
   ]
  },
  {
   "cell_type": "code",
   "execution_count": 10,
   "id": "e4516f4f",
   "metadata": {},
   "outputs": [
    {
     "data": {
      "text/plain": [
       "RangeIndex(start=0, stop=15, step=1)"
      ]
     },
     "execution_count": 10,
     "metadata": {},
     "output_type": "execute_result"
    }
   ],
   "source": [
    "bio.index"
   ]
  },
  {
   "cell_type": "markdown",
   "id": "a50b89ad",
   "metadata": {},
   "source": [
    "The values come as 2D array. The data type reported for the whole data frame is a compromise among the data types of the columns, and does not matter in practice. Here, since the columns have different data types, `bio.values` takes type `object`. "
   ]
  },
  {
   "cell_type": "code",
   "execution_count": 11,
   "id": "b8b92d3d",
   "metadata": {},
   "outputs": [
    {
     "data": {
      "text/plain": [
       "array([[1.65, 61.6, 'M'],\n",
       "       [1.73, 59.5, 'M'],\n",
       "       [1.51, 46.5, 'F'],\n",
       "       [1.63, 75.3, 'F'],\n",
       "       [1.69, 47.6, 'M'],\n",
       "       [1.7, 80.2, 'F'],\n",
       "       [1.81, 67.5, 'M'],\n",
       "       [1.66, 64.1, 'F'],\n",
       "       [1.58, 69.5, 'F'],\n",
       "       [1.66, 57.0, 'M'],\n",
       "       [1.62, 68.6, 'F'],\n",
       "       [1.81, 69.3, 'M'],\n",
       "       [1.75, 53.2, 'F'],\n",
       "       [1.65, 66.1, 'M'],\n",
       "       [1.65, 50.6, 'M']], dtype=object)"
      ]
     },
     "execution_count": 11,
     "metadata": {},
     "output_type": "execute_result"
    }
   ],
   "source": [
    "bio.values"
   ]
  },
  {
   "cell_type": "markdown",
   "id": "6451cbdb",
   "metadata": {},
   "source": [
    "The third component of the data frame is an `index` object containing the column names, which can be extracted as the attribute `.columns`."
   ]
  },
  {
   "cell_type": "code",
   "execution_count": 12,
   "id": "f4e7065d",
   "metadata": {},
   "outputs": [
    {
     "data": {
      "text/plain": [
       "Index(['height', 'weight', 'gender'], dtype='object')"
      ]
     },
     "execution_count": 12,
     "metadata": {},
     "output_type": "execute_result"
    }
   ],
   "source": [
    "bio.columns"
   ]
  },
  {
   "cell_type": "markdown",
   "id": "b709b576",
   "metadata": {},
   "source": [
    "Data frames can also be extracted from a data source (local or remote), such as a CSV file, an Excel sheet, or a table from a relational database. Irrespective of the type of source used, a range index is automatically created unless an alternative specification is provided. One of the columns of the source is often taken as the index.\n",
    "\n",
    "## Exploring Pandas objects\n",
    "\n",
    "A data frame has the same **shape** of the array of values. "
   ]
  },
  {
   "cell_type": "code",
   "execution_count": 13,
   "id": "28e02fca",
   "metadata": {},
   "outputs": [
    {
     "data": {
      "text/plain": [
       "(15, 3)"
      ]
     },
     "execution_count": 13,
     "metadata": {},
     "output_type": "execute_result"
    }
   ],
   "source": [
    "bio.shape"
   ]
  },
  {
   "cell_type": "markdown",
   "id": "03b9363e",
   "metadata": {},
   "source": [
    "The methods `.head()` and `.tail()` extract the first and the last rows of a data frame, respectively. The default number of rows extracted is 5, but you can pass a custom number."
   ]
  },
  {
   "cell_type": "code",
   "execution_count": 14,
   "id": "3d8b6c68",
   "metadata": {},
   "outputs": [
    {
     "data": {
      "text/html": [
       "<div>\n",
       "<style scoped>\n",
       "    .dataframe tbody tr th:only-of-type {\n",
       "        vertical-align: middle;\n",
       "    }\n",
       "\n",
       "    .dataframe tbody tr th {\n",
       "        vertical-align: top;\n",
       "    }\n",
       "\n",
       "    .dataframe thead th {\n",
       "        text-align: right;\n",
       "    }\n",
       "</style>\n",
       "<table border=\"1\" class=\"dataframe\">\n",
       "  <thead>\n",
       "    <tr style=\"text-align: right;\">\n",
       "      <th></th>\n",
       "      <th>height</th>\n",
       "      <th>weight</th>\n",
       "      <th>gender</th>\n",
       "    </tr>\n",
       "  </thead>\n",
       "  <tbody>\n",
       "    <tr>\n",
       "      <th>0</th>\n",
       "      <td>1.65</td>\n",
       "      <td>61.6</td>\n",
       "      <td>M</td>\n",
       "    </tr>\n",
       "    <tr>\n",
       "      <th>1</th>\n",
       "      <td>1.73</td>\n",
       "      <td>59.5</td>\n",
       "      <td>M</td>\n",
       "    </tr>\n",
       "  </tbody>\n",
       "</table>\n",
       "</div>"
      ],
      "text/plain": [
       "   height  weight gender\n",
       "0    1.65    61.6      M\n",
       "1    1.73    59.5      M"
      ]
     },
     "execution_count": 14,
     "metadata": {},
     "output_type": "execute_result"
    }
   ],
   "source": [
    "bio.head(2)"
   ]
  },
  {
   "cell_type": "markdown",
   "id": "b456902f",
   "metadata": {},
   "source": [
    "The content of a data frame can also be explored with the method `.info()`. It prints a report containing the dimensions, the data type and the number of non-missing values of every column of the data frame. Note that the data type of the third column, for which you would have expected `str`, is reported as `object`. Don't worry about this, you could apply the string methods to this column."
   ]
  },
  {
   "cell_type": "code",
   "execution_count": 15,
   "id": "d5b9f243",
   "metadata": {},
   "outputs": [
    {
     "name": "stdout",
     "output_type": "stream",
     "text": [
      "<class 'pandas.core.frame.DataFrame'>\n",
      "RangeIndex: 15 entries, 0 to 14\n",
      "Data columns (total 3 columns):\n",
      " #   Column  Non-Null Count  Dtype  \n",
      "---  ------  --------------  -----  \n",
      " 0   height  15 non-null     float64\n",
      " 1   weight  15 non-null     float64\n",
      " 2   gender  15 non-null     object \n",
      "dtypes: float64(2), object(1)\n",
      "memory usage: 492.0+ bytes\n"
     ]
    }
   ],
   "source": [
    "bio.info()"
   ]
  },
  {
   "cell_type": "markdown",
   "id": "cdc6e191",
   "metadata": {},
   "source": [
    "The method `.describe()` prints a statistical summary of a Pandas object. The columns of type `object` are omitted, except when all the columns have that type. In that case, the summary contains only counts. "
   ]
  },
  {
   "cell_type": "code",
   "execution_count": 16,
   "id": "74fdcce1",
   "metadata": {},
   "outputs": [
    {
     "data": {
      "text/html": [
       "<div>\n",
       "<style scoped>\n",
       "    .dataframe tbody tr th:only-of-type {\n",
       "        vertical-align: middle;\n",
       "    }\n",
       "\n",
       "    .dataframe tbody tr th {\n",
       "        vertical-align: top;\n",
       "    }\n",
       "\n",
       "    .dataframe thead th {\n",
       "        text-align: right;\n",
       "    }\n",
       "</style>\n",
       "<table border=\"1\" class=\"dataframe\">\n",
       "  <thead>\n",
       "    <tr style=\"text-align: right;\">\n",
       "      <th></th>\n",
       "      <th>height</th>\n",
       "      <th>weight</th>\n",
       "    </tr>\n",
       "  </thead>\n",
       "  <tbody>\n",
       "    <tr>\n",
       "      <th>count</th>\n",
       "      <td>15.000000</td>\n",
       "      <td>15.000000</td>\n",
       "    </tr>\n",
       "    <tr>\n",
       "      <th>mean</th>\n",
       "      <td>1.673333</td>\n",
       "      <td>62.440000</td>\n",
       "    </tr>\n",
       "    <tr>\n",
       "      <th>std</th>\n",
       "      <td>0.079970</td>\n",
       "      <td>9.986477</td>\n",
       "    </tr>\n",
       "    <tr>\n",
       "      <th>min</th>\n",
       "      <td>1.510000</td>\n",
       "      <td>46.500000</td>\n",
       "    </tr>\n",
       "    <tr>\n",
       "      <th>25%</th>\n",
       "      <td>1.640000</td>\n",
       "      <td>55.100000</td>\n",
       "    </tr>\n",
       "    <tr>\n",
       "      <th>50%</th>\n",
       "      <td>1.660000</td>\n",
       "      <td>64.100000</td>\n",
       "    </tr>\n",
       "    <tr>\n",
       "      <th>75%</th>\n",
       "      <td>1.715000</td>\n",
       "      <td>68.950000</td>\n",
       "    </tr>\n",
       "    <tr>\n",
       "      <th>max</th>\n",
       "      <td>1.810000</td>\n",
       "      <td>80.200000</td>\n",
       "    </tr>\n",
       "  </tbody>\n",
       "</table>\n",
       "</div>"
      ],
      "text/plain": [
       "          height     weight\n",
       "count  15.000000  15.000000\n",
       "mean    1.673333  62.440000\n",
       "std     0.079970   9.986477\n",
       "min     1.510000  46.500000\n",
       "25%     1.640000  55.100000\n",
       "50%     1.660000  64.100000\n",
       "75%     1.715000  68.950000\n",
       "max     1.810000  80.200000"
      ]
     },
     "execution_count": 16,
     "metadata": {},
     "output_type": "execute_result"
    }
   ],
   "source": [
    "bio.describe()"
   ]
  },
  {
   "cell_type": "markdown",
   "id": "63e23020",
   "metadata": {},
   "source": [
    "## Subsetting data frames\n",
    "\n",
    "Pandas offers multiple ways for subsetting data frames. First, you can extract a column, as a series:"
   ]
  },
  {
   "cell_type": "code",
   "execution_count": 17,
   "id": "5ffe47d2",
   "metadata": {},
   "outputs": [
    {
     "data": {
      "text/plain": [
       "0     1.65\n",
       "1     1.73\n",
       "2     1.51\n",
       "3     1.63\n",
       "4     1.69\n",
       "5     1.70\n",
       "6     1.81\n",
       "7     1.66\n",
       "8     1.58\n",
       "9     1.66\n",
       "10    1.62\n",
       "11    1.81\n",
       "12    1.75\n",
       "13    1.65\n",
       "14    1.65\n",
       "Name: height, dtype: float64"
      ]
     },
     "execution_count": 17,
     "metadata": {},
     "output_type": "execute_result"
    }
   ],
   "source": [
    "bio['height']"
   ]
  },
  {
   "cell_type": "markdown",
   "id": "31363735",
   "metadata": {},
   "source": [
    "Note that the syntax is the same as for extracting the value of a key from a dictionary (not by chance). You can also extract a **data subframe** containing a subset of complete columns from a data frame. You can specify this with a list containing the names of those columns:"
   ]
  },
  {
   "cell_type": "code",
   "execution_count": 18,
   "id": "0395ee39",
   "metadata": {},
   "outputs": [
    {
     "data": {
      "text/html": [
       "<div>\n",
       "<style scoped>\n",
       "    .dataframe tbody tr th:only-of-type {\n",
       "        vertical-align: middle;\n",
       "    }\n",
       "\n",
       "    .dataframe tbody tr th {\n",
       "        vertical-align: top;\n",
       "    }\n",
       "\n",
       "    .dataframe thead th {\n",
       "        text-align: right;\n",
       "    }\n",
       "</style>\n",
       "<table border=\"1\" class=\"dataframe\">\n",
       "  <thead>\n",
       "    <tr style=\"text-align: right;\">\n",
       "      <th></th>\n",
       "      <th>height</th>\n",
       "      <th>weight</th>\n",
       "    </tr>\n",
       "  </thead>\n",
       "  <tbody>\n",
       "    <tr>\n",
       "      <th>0</th>\n",
       "      <td>1.65</td>\n",
       "      <td>61.6</td>\n",
       "    </tr>\n",
       "    <tr>\n",
       "      <th>1</th>\n",
       "      <td>1.73</td>\n",
       "      <td>59.5</td>\n",
       "    </tr>\n",
       "    <tr>\n",
       "      <th>2</th>\n",
       "      <td>1.51</td>\n",
       "      <td>46.5</td>\n",
       "    </tr>\n",
       "    <tr>\n",
       "      <th>3</th>\n",
       "      <td>1.63</td>\n",
       "      <td>75.3</td>\n",
       "    </tr>\n",
       "    <tr>\n",
       "      <th>4</th>\n",
       "      <td>1.69</td>\n",
       "      <td>47.6</td>\n",
       "    </tr>\n",
       "    <tr>\n",
       "      <th>5</th>\n",
       "      <td>1.70</td>\n",
       "      <td>80.2</td>\n",
       "    </tr>\n",
       "    <tr>\n",
       "      <th>6</th>\n",
       "      <td>1.81</td>\n",
       "      <td>67.5</td>\n",
       "    </tr>\n",
       "    <tr>\n",
       "      <th>7</th>\n",
       "      <td>1.66</td>\n",
       "      <td>64.1</td>\n",
       "    </tr>\n",
       "    <tr>\n",
       "      <th>8</th>\n",
       "      <td>1.58</td>\n",
       "      <td>69.5</td>\n",
       "    </tr>\n",
       "    <tr>\n",
       "      <th>9</th>\n",
       "      <td>1.66</td>\n",
       "      <td>57.0</td>\n",
       "    </tr>\n",
       "    <tr>\n",
       "      <th>10</th>\n",
       "      <td>1.62</td>\n",
       "      <td>68.6</td>\n",
       "    </tr>\n",
       "    <tr>\n",
       "      <th>11</th>\n",
       "      <td>1.81</td>\n",
       "      <td>69.3</td>\n",
       "    </tr>\n",
       "    <tr>\n",
       "      <th>12</th>\n",
       "      <td>1.75</td>\n",
       "      <td>53.2</td>\n",
       "    </tr>\n",
       "    <tr>\n",
       "      <th>13</th>\n",
       "      <td>1.65</td>\n",
       "      <td>66.1</td>\n",
       "    </tr>\n",
       "    <tr>\n",
       "      <th>14</th>\n",
       "      <td>1.65</td>\n",
       "      <td>50.6</td>\n",
       "    </tr>\n",
       "  </tbody>\n",
       "</table>\n",
       "</div>"
      ],
      "text/plain": [
       "    height  weight\n",
       "0     1.65    61.6\n",
       "1     1.73    59.5\n",
       "2     1.51    46.5\n",
       "3     1.63    75.3\n",
       "4     1.69    47.6\n",
       "5     1.70    80.2\n",
       "6     1.81    67.5\n",
       "7     1.66    64.1\n",
       "8     1.58    69.5\n",
       "9     1.66    57.0\n",
       "10    1.62    68.6\n",
       "11    1.81    69.3\n",
       "12    1.75    53.2\n",
       "13    1.65    66.1\n",
       "14    1.65    50.6"
      ]
     },
     "execution_count": 18,
     "metadata": {},
     "output_type": "execute_result"
    }
   ],
   "source": [
    "bio[['height', 'weight']]"
   ]
  },
  {
   "cell_type": "markdown",
   "id": "155b984f",
   "metadata": {},
   "source": [
    "*Note*. You can extract a data subframe with a single column. Beware that this is not the same as a series. `bio['height']`is a series with shape `(15,)`, and `bio[['height']]` is a data frame with shape `(15,1)`. We have seen something similar in lists.\n",
    "\n",
    "The good news from Pandas is that we can operate with columns as if they were 1D arrays, but now we can add the result as an new column:"
   ]
  },
  {
   "cell_type": "code",
   "execution_count": 19,
   "id": "68eb530d",
   "metadata": {},
   "outputs": [
    {
     "data": {
      "text/html": [
       "<div>\n",
       "<style scoped>\n",
       "    .dataframe tbody tr th:only-of-type {\n",
       "        vertical-align: middle;\n",
       "    }\n",
       "\n",
       "    .dataframe tbody tr th {\n",
       "        vertical-align: top;\n",
       "    }\n",
       "\n",
       "    .dataframe thead th {\n",
       "        text-align: right;\n",
       "    }\n",
       "</style>\n",
       "<table border=\"1\" class=\"dataframe\">\n",
       "  <thead>\n",
       "    <tr style=\"text-align: right;\">\n",
       "      <th></th>\n",
       "      <th>height</th>\n",
       "      <th>weight</th>\n",
       "      <th>gender</th>\n",
       "      <th>bmi</th>\n",
       "    </tr>\n",
       "  </thead>\n",
       "  <tbody>\n",
       "    <tr>\n",
       "      <th>0</th>\n",
       "      <td>1.65</td>\n",
       "      <td>61.6</td>\n",
       "      <td>M</td>\n",
       "      <td>22.626263</td>\n",
       "    </tr>\n",
       "    <tr>\n",
       "      <th>1</th>\n",
       "      <td>1.73</td>\n",
       "      <td>59.5</td>\n",
       "      <td>M</td>\n",
       "      <td>19.880384</td>\n",
       "    </tr>\n",
       "    <tr>\n",
       "      <th>2</th>\n",
       "      <td>1.51</td>\n",
       "      <td>46.5</td>\n",
       "      <td>F</td>\n",
       "      <td>20.393842</td>\n",
       "    </tr>\n",
       "    <tr>\n",
       "      <th>3</th>\n",
       "      <td>1.63</td>\n",
       "      <td>75.3</td>\n",
       "      <td>F</td>\n",
       "      <td>28.341300</td>\n",
       "    </tr>\n",
       "    <tr>\n",
       "      <th>4</th>\n",
       "      <td>1.69</td>\n",
       "      <td>47.6</td>\n",
       "      <td>M</td>\n",
       "      <td>16.666083</td>\n",
       "    </tr>\n",
       "    <tr>\n",
       "      <th>5</th>\n",
       "      <td>1.70</td>\n",
       "      <td>80.2</td>\n",
       "      <td>F</td>\n",
       "      <td>27.750865</td>\n",
       "    </tr>\n",
       "    <tr>\n",
       "      <th>6</th>\n",
       "      <td>1.81</td>\n",
       "      <td>67.5</td>\n",
       "      <td>M</td>\n",
       "      <td>20.603767</td>\n",
       "    </tr>\n",
       "    <tr>\n",
       "      <th>7</th>\n",
       "      <td>1.66</td>\n",
       "      <td>64.1</td>\n",
       "      <td>F</td>\n",
       "      <td>23.261722</td>\n",
       "    </tr>\n",
       "    <tr>\n",
       "      <th>8</th>\n",
       "      <td>1.58</td>\n",
       "      <td>69.5</td>\n",
       "      <td>F</td>\n",
       "      <td>27.840090</td>\n",
       "    </tr>\n",
       "    <tr>\n",
       "      <th>9</th>\n",
       "      <td>1.66</td>\n",
       "      <td>57.0</td>\n",
       "      <td>M</td>\n",
       "      <td>20.685150</td>\n",
       "    </tr>\n",
       "    <tr>\n",
       "      <th>10</th>\n",
       "      <td>1.62</td>\n",
       "      <td>68.6</td>\n",
       "      <td>F</td>\n",
       "      <td>26.139308</td>\n",
       "    </tr>\n",
       "    <tr>\n",
       "      <th>11</th>\n",
       "      <td>1.81</td>\n",
       "      <td>69.3</td>\n",
       "      <td>M</td>\n",
       "      <td>21.153200</td>\n",
       "    </tr>\n",
       "    <tr>\n",
       "      <th>12</th>\n",
       "      <td>1.75</td>\n",
       "      <td>53.2</td>\n",
       "      <td>F</td>\n",
       "      <td>17.371429</td>\n",
       "    </tr>\n",
       "    <tr>\n",
       "      <th>13</th>\n",
       "      <td>1.65</td>\n",
       "      <td>66.1</td>\n",
       "      <td>M</td>\n",
       "      <td>24.279155</td>\n",
       "    </tr>\n",
       "    <tr>\n",
       "      <th>14</th>\n",
       "      <td>1.65</td>\n",
       "      <td>50.6</td>\n",
       "      <td>M</td>\n",
       "      <td>18.585859</td>\n",
       "    </tr>\n",
       "  </tbody>\n",
       "</table>\n",
       "</div>"
      ],
      "text/plain": [
       "    height  weight gender        bmi\n",
       "0     1.65    61.6      M  22.626263\n",
       "1     1.73    59.5      M  19.880384\n",
       "2     1.51    46.5      F  20.393842\n",
       "3     1.63    75.3      F  28.341300\n",
       "4     1.69    47.6      M  16.666083\n",
       "5     1.70    80.2      F  27.750865\n",
       "6     1.81    67.5      M  20.603767\n",
       "7     1.66    64.1      F  23.261722\n",
       "8     1.58    69.5      F  27.840090\n",
       "9     1.66    57.0      M  20.685150\n",
       "10    1.62    68.6      F  26.139308\n",
       "11    1.81    69.3      M  21.153200\n",
       "12    1.75    53.2      F  17.371429\n",
       "13    1.65    66.1      M  24.279155\n",
       "14    1.65    50.6      M  18.585859"
      ]
     },
     "execution_count": 19,
     "metadata": {},
     "output_type": "execute_result"
    }
   ],
   "source": [
    "bio['bmi'] = bio['weight']/bio['height']**2\n",
    "bio"
   ]
  },
  {
   "cell_type": "markdown",
   "id": "d7ae4974",
   "metadata": {},
   "source": [
    "In practical data analysis, rows are typically filtered by means of expressions. A Boolean mask can be created with an expression involving columns of a data frame just as for NumPy arrays. A simple example follows. "
   ]
  },
  {
   "cell_type": "code",
   "execution_count": 20,
   "id": "7d81aa10",
   "metadata": {},
   "outputs": [
    {
     "data": {
      "text/plain": [
       "0      True\n",
       "1      True\n",
       "2     False\n",
       "3     False\n",
       "4      True\n",
       "5     False\n",
       "6      True\n",
       "7     False\n",
       "8     False\n",
       "9      True\n",
       "10    False\n",
       "11     True\n",
       "12    False\n",
       "13     True\n",
       "14     True\n",
       "Name: gender, dtype: bool"
      ]
     },
     "execution_count": 20,
     "metadata": {},
     "output_type": "execute_result"
    }
   ],
   "source": [
    "male = (bio['gender'] == 'M')\n",
    "male"
   ]
  },
  {
   "cell_type": "markdown",
   "id": "0f45dfcf",
   "metadata": {},
   "source": [
    "Note that `male` is a (separate) series of data type `bool`. We could also add it to `bio` as a column, or make it a 1/0 **dummy** (just add `+ 0` at the end of the definition). Also, note that the parenthesis in the definition is not needed, though it is good practice to enclose expressions for readability. "
   ]
  },
  {
   "cell_type": "code",
   "execution_count": 21,
   "id": "bb43df95",
   "metadata": {},
   "outputs": [
    {
     "data": {
      "text/html": [
       "<div>\n",
       "<style scoped>\n",
       "    .dataframe tbody tr th:only-of-type {\n",
       "        vertical-align: middle;\n",
       "    }\n",
       "\n",
       "    .dataframe tbody tr th {\n",
       "        vertical-align: top;\n",
       "    }\n",
       "\n",
       "    .dataframe thead th {\n",
       "        text-align: right;\n",
       "    }\n",
       "</style>\n",
       "<table border=\"1\" class=\"dataframe\">\n",
       "  <thead>\n",
       "    <tr style=\"text-align: right;\">\n",
       "      <th></th>\n",
       "      <th>height</th>\n",
       "      <th>weight</th>\n",
       "      <th>gender</th>\n",
       "      <th>bmi</th>\n",
       "    </tr>\n",
       "  </thead>\n",
       "  <tbody>\n",
       "    <tr>\n",
       "      <th>0</th>\n",
       "      <td>1.65</td>\n",
       "      <td>61.6</td>\n",
       "      <td>M</td>\n",
       "      <td>22.626263</td>\n",
       "    </tr>\n",
       "    <tr>\n",
       "      <th>1</th>\n",
       "      <td>1.73</td>\n",
       "      <td>59.5</td>\n",
       "      <td>M</td>\n",
       "      <td>19.880384</td>\n",
       "    </tr>\n",
       "    <tr>\n",
       "      <th>4</th>\n",
       "      <td>1.69</td>\n",
       "      <td>47.6</td>\n",
       "      <td>M</td>\n",
       "      <td>16.666083</td>\n",
       "    </tr>\n",
       "    <tr>\n",
       "      <th>6</th>\n",
       "      <td>1.81</td>\n",
       "      <td>67.5</td>\n",
       "      <td>M</td>\n",
       "      <td>20.603767</td>\n",
       "    </tr>\n",
       "    <tr>\n",
       "      <th>9</th>\n",
       "      <td>1.66</td>\n",
       "      <td>57.0</td>\n",
       "      <td>M</td>\n",
       "      <td>20.685150</td>\n",
       "    </tr>\n",
       "    <tr>\n",
       "      <th>11</th>\n",
       "      <td>1.81</td>\n",
       "      <td>69.3</td>\n",
       "      <td>M</td>\n",
       "      <td>21.153200</td>\n",
       "    </tr>\n",
       "    <tr>\n",
       "      <th>13</th>\n",
       "      <td>1.65</td>\n",
       "      <td>66.1</td>\n",
       "      <td>M</td>\n",
       "      <td>24.279155</td>\n",
       "    </tr>\n",
       "    <tr>\n",
       "      <th>14</th>\n",
       "      <td>1.65</td>\n",
       "      <td>50.6</td>\n",
       "      <td>M</td>\n",
       "      <td>18.585859</td>\n",
       "    </tr>\n",
       "  </tbody>\n",
       "</table>\n",
       "</div>"
      ],
      "text/plain": [
       "    height  weight gender        bmi\n",
       "0     1.65    61.6      M  22.626263\n",
       "1     1.73    59.5      M  19.880384\n",
       "4     1.69    47.6      M  16.666083\n",
       "6     1.81    67.5      M  20.603767\n",
       "9     1.66    57.0      M  20.685150\n",
       "11    1.81    69.3      M  21.153200\n",
       "13    1.65    66.1      M  24.279155\n",
       "14    1.65    50.6      M  18.585859"
      ]
     },
     "execution_count": 21,
     "metadata": {},
     "output_type": "execute_result"
    }
   ],
   "source": [
    "bio[male]"
   ]
  },
  {
   "cell_type": "markdown",
   "id": "722ea0aa",
   "metadata": {},
   "source": [
    "See next how to combine a row filter and a column selection. You can change the order, selecting first the columns and then filtering the rows."
   ]
  },
  {
   "cell_type": "code",
   "execution_count": 22,
   "id": "fb286d6f",
   "metadata": {},
   "outputs": [
    {
     "data": {
      "text/html": [
       "<div>\n",
       "<style scoped>\n",
       "    .dataframe tbody tr th:only-of-type {\n",
       "        vertical-align: middle;\n",
       "    }\n",
       "\n",
       "    .dataframe tbody tr th {\n",
       "        vertical-align: top;\n",
       "    }\n",
       "\n",
       "    .dataframe thead th {\n",
       "        text-align: right;\n",
       "    }\n",
       "</style>\n",
       "<table border=\"1\" class=\"dataframe\">\n",
       "  <thead>\n",
       "    <tr style=\"text-align: right;\">\n",
       "      <th></th>\n",
       "      <th>height</th>\n",
       "      <th>weight</th>\n",
       "    </tr>\n",
       "  </thead>\n",
       "  <tbody>\n",
       "    <tr>\n",
       "      <th>0</th>\n",
       "      <td>1.65</td>\n",
       "      <td>61.6</td>\n",
       "    </tr>\n",
       "    <tr>\n",
       "      <th>1</th>\n",
       "      <td>1.73</td>\n",
       "      <td>59.5</td>\n",
       "    </tr>\n",
       "    <tr>\n",
       "      <th>4</th>\n",
       "      <td>1.69</td>\n",
       "      <td>47.6</td>\n",
       "    </tr>\n",
       "    <tr>\n",
       "      <th>6</th>\n",
       "      <td>1.81</td>\n",
       "      <td>67.5</td>\n",
       "    </tr>\n",
       "    <tr>\n",
       "      <th>9</th>\n",
       "      <td>1.66</td>\n",
       "      <td>57.0</td>\n",
       "    </tr>\n",
       "    <tr>\n",
       "      <th>11</th>\n",
       "      <td>1.81</td>\n",
       "      <td>69.3</td>\n",
       "    </tr>\n",
       "    <tr>\n",
       "      <th>13</th>\n",
       "      <td>1.65</td>\n",
       "      <td>66.1</td>\n",
       "    </tr>\n",
       "    <tr>\n",
       "      <th>14</th>\n",
       "      <td>1.65</td>\n",
       "      <td>50.6</td>\n",
       "    </tr>\n",
       "  </tbody>\n",
       "</table>\n",
       "</div>"
      ],
      "text/plain": [
       "    height  weight\n",
       "0     1.65    61.6\n",
       "1     1.73    59.5\n",
       "4     1.69    47.6\n",
       "6     1.81    67.5\n",
       "9     1.66    57.0\n",
       "11    1.81    69.3\n",
       "13    1.65    66.1\n",
       "14    1.65    50.6"
      ]
     },
     "execution_count": 22,
     "metadata": {},
     "output_type": "execute_result"
    }
   ],
   "source": [
    "bio[male][['height', 'weight']]"
   ]
  },
  {
   "cell_type": "markdown",
   "id": "bd90a523",
   "metadata": {},
   "source": [
    "Besides this, there are two additional ways to carry out a selection, specifying rows and columns in one shot:\n",
    "\n",
    "* **Selection by label** is specified by adding  `.loc` after the name of the data frame. The selection of the rows is based on the index, and that of the columns is based on the column names.\n",
    "\n",
    "* **Selection by position** uses `.iloc`, which works exactly as in 2D array, based on the row and column indexes. \n",
    "\n",
    "In both cases, if you enter a single specification inside the brackets, it refers to the rows. If you enter two specifications, the first one refers to the rows and the second one to the columns. We don't use `loc` and `iloc` in this course, since you can live in Pandas without that, first filtering the rows and then selecting the columns (or vice versa). Sticking to this simple approach, you save the time wasted learning too many methods."
   ]
  }
 ],
 "metadata": {
  "kernelspec": {
   "display_name": "Python 3 (ipykernel)",
   "language": "python",
   "name": "python3"
  },
  "language_info": {
   "codemirror_mode": {
    "name": "ipython",
    "version": 3
   },
   "file_extension": ".py",
   "mimetype": "text/x-python",
   "name": "python",
   "nbconvert_exporter": "python",
   "pygments_lexer": "ipython3",
   "version": "3.11.5"
  }
 },
 "nbformat": 4,
 "nbformat_minor": 5
}
