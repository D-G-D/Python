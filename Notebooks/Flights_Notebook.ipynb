{
 "cells": [
  {
   "cell_type": "markdown",
   "id": "dd0df668",
   "metadata": {},
   "source": [
    "# Delays in flights departing from NYC\n",
    "\n",
    "About the data: Hadley Wickham, Chief Scientist at RStudio, has collected airline on-time data for all flights\n",
    "departing New York City (LGA, JFK and EWR airports) in 2013. The data has been processed and trimmed for this exercise and is available on GitHub `https://github.com/D-G-D/Python/blob/main/Data/nyc_flights_H1_2013.csv`.\n",
    "\n",
    "The csv file contains the following fields or columns:\n",
    "- `sched_dep_time`, the scheduled departure time of the flight, as yyyy-mm-dd hh:mm:ss, in the NYC time zone.\n",
    "- `scheduled_duration`, the scheduled duration of the flight in minutes.\n",
    "- `dep_delay`, the departure delay in minutes, with negative time representing early departure.\n",
    "- `arr_delay`, the arrival delay in minutes, with negative time representing early arrival.\n",
    "- `origin`, the departure airport of the flight.\n",
    "- `dest`, the destination airport of the flight.\n",
    "- `distance`, the distance between origin and destination, in miles.\n",
    "- `carrier`, the two-letter carrier abbreviation.\n",
    "- `flight`, the flight number.\n",
    "- `tailnum`, the plane tail number.\n",
    "- `temp`, the temperature in Farenheit degrees at the scheduled departure time.\n",
    "- `humid`, the relative humidity in percentage at the scheduled departure time.\n",
    "- `wind_dir`, the wind direction in degrees at the scheduled departure time.\n",
    "- `wind_speed`, the wind speed in miles per hour at the scheduled departure time.\n",
    "- `wind_gust`, the wind gust in miles per hour at the scheduled departure time.\n",
    "- `precip`, the precipitation in inches at the scheduled departure time.\n",
    "- `pressure`, the sea level pressure in millibars at the scheduled departure time.\n",
    "- `visib`, the visibility in miles at the scheduled departure time."
   ]
  },
  {
   "cell_type": "code",
   "execution_count": null,
   "id": "010f0127",
   "metadata": {},
   "outputs": [],
   "source": [
    "import pandas as pd"
   ]
  },
  {
   "cell_type": "code",
   "execution_count": null,
   "id": "afa1a291",
   "metadata": {},
   "outputs": [],
   "source": [
    "df = pd.read_csv('https://raw.githubusercontent.com/D-G-D/Python/main/Data/nyc_flights_H1_2013.csv')"
   ]
  },
  {
   "cell_type": "markdown",
   "id": "a717fb38",
   "metadata": {},
   "source": [
    "## 1. Are there any missing values in the data? If yes, what field is missing the most values?"
   ]
  },
  {
   "cell_type": "markdown",
   "id": "23f2e52f",
   "metadata": {},
   "source": [
    "## 2. Are there any duplicate rows in the data? If yes, how many?"
   ]
  },
  {
   "cell_type": "markdown",
   "id": "d9bdb5d2",
   "metadata": {},
   "source": [
    "## 3. What is the distribution of the of the departure delay? And the arrival delay?"
   ]
  },
  {
   "cell_type": "markdown",
   "id": "25a12751",
   "metadata": {},
   "source": [
    "## 4. Is the arrival delay associated to the departure delay? Justify your answer."
   ]
  },
  {
   "cell_type": "markdown",
   "id": "bc6c6e4a",
   "metadata": {},
   "source": [
    "## 5. Does your answer change when the departure delay is around the median? Take only those values between percentile 25% and 75%."
   ]
  },
  {
   "cell_type": "markdown",
   "id": "bc251206",
   "metadata": {},
   "source": [
    "## 6.Delayed flights depart 15 or more minutes late. Define a new column \"delayed\" with True if the flight is delayed or False if it not delayed."
   ]
  },
  {
   "cell_type": "markdown",
   "id": "64f785bb",
   "metadata": {},
   "source": [
    "## 7. What is the overall % of late flights? "
   ]
  },
  {
   "cell_type": "markdown",
   "id": "16364c7e",
   "metadata": {},
   "source": [
    "## 8. Does the visibility affect the % of flights departing late? Justify your answer."
   ]
  },
  {
   "cell_type": "markdown",
   "id": "79ed562a",
   "metadata": {},
   "source": [
    "## 9. *Loop* through the following lists. For each customer, select the airport with the lowest probability of having a delayed flight (15+ min; use the *delayed* column you created earlier). Take into acount their needs.\n",
    "\n",
    "How to read each customer (use the lists):\n",
    "- Customer 0: Customer \"C1\" wants to fly to \"ATL\" airport. However, they won't depart from \"JFK\".\n",
    "- Customer 1: Customer \"A2\" wants to fly to \"BOS\" airport. They must depart from any airport other than \"JFK\" or \"LGA\".\n",
    "- Customer 2: Customer \"D9\" wants to fly to \"LAX\" airport. They have no departure airport preference.\n",
    "- Customer 3: Customer \"E8\" wants to fly to \"ORD\" airport. They have no departure airport preference.\n",
    "\n",
    "Notes:\n",
    "- The `destinations` list contains the destination airport (\"dest\" column) that the customer wants to fly to.\n",
    "- The `vetoed_airports` list contains the origin airports (\"origin\" column) vetoed by the customer. That means, you cannot suggest that airport. If more than one airport is vetoed, the element is a list. If no airports are vetoed, then the value is the string 'None'.\n",
    "- `type(variable_name) is list` returns true if the variable \"variable_name\" is a list.\n",
    "- Calling `print()` inside the loop would be useful to show the decision for each customer."
   ]
  },
  {
   "cell_type": "code",
   "execution_count": null,
   "id": "b0e257e7",
   "metadata": {},
   "outputs": [],
   "source": [
    "customer_id = ['C1', 'A2', 'D9', 'E8']\n",
    "destinations = ['ATL', 'BOS', 'LAX', 'ORD']\n",
    "vetoed_airports = ['JFK', ['JFK', 'LGA'], 'None', 'None']"
   ]
  }
 ],
 "metadata": {
  "kernelspec": {
   "display_name": "Python 3 (ipykernel)",
   "language": "python",
   "name": "python3"
  },
  "language_info": {
   "codemirror_mode": {
    "name": "ipython",
    "version": 3
   },
   "file_extension": ".py",
   "mimetype": "text/x-python",
   "name": "python",
   "nbconvert_exporter": "python",
   "pygments_lexer": "ipython3",
   "version": "3.11.5"
  }
 },
 "nbformat": 4,
 "nbformat_minor": 5
}
