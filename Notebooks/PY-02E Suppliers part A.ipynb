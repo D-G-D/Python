{
 "cells": [
  {
   "cell_type": "markdown",
   "id": "12168335",
   "metadata": {},
   "source": [
    "# [PY-02E] Example - Orders to suppliers (Part A)"
   ]
  },
  {
   "cell_type": "markdown",
   "id": "5c593fa9",
   "metadata": {},
   "source": [
    "## Following the orders placed, how many units are needed for EU?\n"
   ]
  },
  {
   "cell_type": "code",
   "execution_count": 1,
   "id": "3a189d7a",
   "metadata": {},
   "outputs": [
    {
     "data": {
      "text/plain": [
       "9000"
      ]
     },
     "execution_count": 1,
     "metadata": {},
     "output_type": "execute_result"
    }
   ],
   "source": [
    "5000 + 4000"
   ]
  },
  {
   "cell_type": "markdown",
   "id": "41ecff4f",
   "metadata": {},
   "source": [
    "We can reproduce the same calculation using *variables*:"
   ]
  },
  {
   "cell_type": "code",
   "execution_count": 2,
   "id": "48c2541e",
   "metadata": {},
   "outputs": [],
   "source": [
    "m04eu_units = 5000 + 4000"
   ]
  },
  {
   "cell_type": "markdown",
   "id": "5427a20a",
   "metadata": {},
   "source": [
    "Executing the cell in a notebook will display the value of the last line, if it is an operation not assigned to a variable, or just a variable."
   ]
  },
  {
   "cell_type": "code",
   "execution_count": 3,
   "id": "817cb0c1",
   "metadata": {},
   "outputs": [
    {
     "data": {
      "text/plain": [
       "9000"
      ]
     },
     "execution_count": 3,
     "metadata": {},
     "output_type": "execute_result"
    }
   ],
   "source": [
    "m04eu_units"
   ]
  },
  {
   "cell_type": "markdown",
   "id": "4bf1060c",
   "metadata": {},
   "source": [
    "We can overwrite existing variables:"
   ]
  },
  {
   "cell_type": "code",
   "execution_count": 4,
   "id": "26928bdf",
   "metadata": {},
   "outputs": [
    {
     "data": {
      "text/plain": [
       "0"
      ]
     },
     "execution_count": 4,
     "metadata": {},
     "output_type": "execute_result"
    }
   ],
   "source": [
    "m04eu_units = 0\n",
    "m04eu_units"
   ]
  },
  {
   "cell_type": "markdown",
   "id": "faf681a9",
   "metadata": {},
   "source": [
    "## If this is the average monthly unit order, how many units would be ordered in one year?"
   ]
  },
  {
   "cell_type": "code",
   "execution_count": 5,
   "id": "9eb04893",
   "metadata": {},
   "outputs": [
    {
     "data": {
      "text/plain": [
       "108000"
      ]
     },
     "execution_count": 5,
     "metadata": {},
     "output_type": "execute_result"
    }
   ],
   "source": [
    "(5000 + 4000) * 12"
   ]
  },
  {
   "cell_type": "markdown",
   "id": "a7d31751",
   "metadata": {},
   "source": [
    "We can do the same calculation using variables:"
   ]
  },
  {
   "cell_type": "code",
   "execution_count": 6,
   "id": "bb9ed83f",
   "metadata": {},
   "outputs": [
    {
     "data": {
      "text/plain": [
       "108000"
      ]
     },
     "execution_count": 6,
     "metadata": {},
     "output_type": "execute_result"
    }
   ],
   "source": [
    "m04eu_units = 5000 + 4000\n",
    "m04eu_units * 12"
   ]
  },
  {
   "cell_type": "code",
   "execution_count": 7,
   "id": "2340c9c6",
   "metadata": {},
   "outputs": [
    {
     "data": {
      "text/plain": [
       "9000"
      ]
     },
     "execution_count": 7,
     "metadata": {},
     "output_type": "execute_result"
    }
   ],
   "source": [
    "m04eu_units = 5000 + 4000\n",
    "m04eu_units * 12\n",
    "m04eu_units"
   ]
  },
  {
   "cell_type": "markdown",
   "id": "4abd210e",
   "metadata": {},
   "source": [
    "If you want to keep it, always store the value of an operation in a variable:"
   ]
  },
  {
   "cell_type": "code",
   "execution_count": 8,
   "id": "b8e10c84",
   "metadata": {},
   "outputs": [
    {
     "data": {
      "text/plain": [
       "108000"
      ]
     },
     "execution_count": 8,
     "metadata": {},
     "output_type": "execute_result"
    }
   ],
   "source": [
    "m04eu_units = 5000 + 4000\n",
    "m04eu_units = m04eu_units * 12\n",
    "m04eu_units"
   ]
  },
  {
   "cell_type": "markdown",
   "id": "46c1604a",
   "metadata": {},
   "source": [
    "## What is the average cost of a unit for North America (NA)? And EU?"
   ]
  },
  {
   "cell_type": "markdown",
   "id": "f826c91c",
   "metadata": {},
   "source": [
    "The average cost of a unit is the total number of units over the total cost."
   ]
  },
  {
   "cell_type": "markdown",
   "id": "afac7ede",
   "metadata": {},
   "source": [
    "North America:"
   ]
  },
  {
   "cell_type": "code",
   "execution_count": 9,
   "id": "5f2d5627",
   "metadata": {},
   "outputs": [
    {
     "data": {
      "text/plain": [
       "238.44"
      ]
     },
     "execution_count": 9,
     "metadata": {},
     "output_type": "execute_result"
    }
   ],
   "source": [
    "2384400 / 10000"
   ]
  },
  {
   "cell_type": "markdown",
   "id": "5f9fdbbe",
   "metadata": {},
   "source": [
    "Europe:"
   ]
  },
  {
   "cell_type": "code",
   "execution_count": 10,
   "id": "8081991d",
   "metadata": {},
   "outputs": [
    {
     "data": {
      "text/plain": [
       "239.17222222222222"
      ]
     },
     "execution_count": 10,
     "metadata": {},
     "output_type": "execute_result"
    }
   ],
   "source": [
    "units = 5000 + 4000\n",
    "order_total = 952000 + 1200550\n",
    "avg_cost_unit = order_total / units\n",
    "avg_cost_unit"
   ]
  },
  {
   "cell_type": "markdown",
   "id": "0ddeb3b2",
   "metadata": {},
   "source": [
    "We can call funcions (more on that later) to manipulate the result, in this case, round it two decimals."
   ]
  },
  {
   "cell_type": "code",
   "execution_count": 11,
   "id": "c33939f3",
   "metadata": {},
   "outputs": [
    {
     "data": {
      "text/plain": [
       "239.17"
      ]
     },
     "execution_count": 11,
     "metadata": {},
     "output_type": "execute_result"
    }
   ],
   "source": [
    "round(avg_cost_unit, 2)"
   ]
  },
  {
   "cell_type": "markdown",
   "id": "5d96a0d9",
   "metadata": {},
   "source": [
    "## Create the Japan (JP) order details. Total budget: 200000 USD, price per unit: 243.63. How much money is left of the budget?"
   ]
  },
  {
   "cell_type": "markdown",
   "id": "e809ad2b",
   "metadata": {},
   "source": [
    "* **Dollar total amount: ?**\n",
    "* Unit type: M04\n",
    "* Location: JP\n",
    "* **Number of units: ?**\n",
    "* Budget: 200000\n",
    "* Average price per unit: 234.63"
   ]
  },
  {
   "cell_type": "code",
   "execution_count": 12,
   "id": "fecaf549",
   "metadata": {},
   "outputs": [
    {
     "data": {
      "text/plain": [
       "820.9169642490663"
      ]
     },
     "execution_count": 12,
     "metadata": {},
     "output_type": "execute_result"
    }
   ],
   "source": [
    "budget = 200000\n",
    "avg_cost_unit = 243.63\n",
    "units = budget / avg_cost_unit\n",
    "units"
   ]
  },
  {
   "cell_type": "markdown",
   "id": "919b37ec",
   "metadata": {},
   "source": [
    "We need an integer number for the units, as we cannot order partially built units."
   ]
  },
  {
   "cell_type": "code",
   "execution_count": 13,
   "id": "02f3cd5d",
   "metadata": {},
   "outputs": [
    {
     "data": {
      "text/plain": [
       "821"
      ]
     },
     "execution_count": 13,
     "metadata": {},
     "output_type": "execute_result"
    }
   ],
   "source": [
    "round(units)"
   ]
  },
  {
   "cell_type": "code",
   "execution_count": 14,
   "id": "04f05927",
   "metadata": {},
   "outputs": [
    {
     "data": {
      "text/plain": [
       "200020.23"
      ]
     },
     "execution_count": 14,
     "metadata": {},
     "output_type": "execute_result"
    }
   ],
   "source": [
    "order_total = round(units) * avg_cost_unit\n",
    "order_total"
   ]
  },
  {
   "cell_type": "code",
   "execution_count": 15,
   "id": "6216a53c",
   "metadata": {},
   "outputs": [
    {
     "data": {
      "text/plain": [
       "-20.230000000010477"
      ]
     },
     "execution_count": 15,
     "metadata": {},
     "output_type": "execute_result"
    }
   ],
   "source": [
    "round(budget - order_total, 2)"
   ]
  },
  {
   "cell_type": "markdown",
   "id": "0e9996de",
   "metadata": {},
   "source": [
    "The total amount we would have to pay if we round the number of units is more than the budget. We need to round down, in Python that is done with the function `floor`."
   ]
  },
  {
   "cell_type": "code",
   "execution_count": 16,
   "id": "890caa0a",
   "metadata": {},
   "outputs": [
    {
     "ename": "NameError",
     "evalue": "name 'floor' is not defined",
     "output_type": "error",
     "traceback": [
      "\u001b[1;31m---------------------------------------------------------------------------\u001b[0m",
      "\u001b[1;31mNameError\u001b[0m                                 Traceback (most recent call last)",
      "Cell \u001b[1;32mIn[16], line 1\u001b[0m\n\u001b[1;32m----> 1\u001b[0m floor(units)\n",
      "\u001b[1;31mNameError\u001b[0m: name 'floor' is not defined"
     ]
    }
   ],
   "source": [
    "floor(units)"
   ]
  },
  {
   "cell_type": "markdown",
   "id": "f824340c",
   "metadata": {},
   "source": [
    "We need to import it first:"
   ]
  },
  {
   "cell_type": "code",
   "execution_count": 17,
   "id": "e6d69829",
   "metadata": {},
   "outputs": [
    {
     "data": {
      "text/plain": [
       "820"
      ]
     },
     "execution_count": 17,
     "metadata": {},
     "output_type": "execute_result"
    }
   ],
   "source": [
    "import math\n",
    "math.floor(units)"
   ]
  },
  {
   "cell_type": "code",
   "execution_count": 18,
   "id": "4ec9bb05",
   "metadata": {},
   "outputs": [
    {
     "data": {
      "text/plain": [
       "820"
      ]
     },
     "execution_count": 18,
     "metadata": {},
     "output_type": "execute_result"
    }
   ],
   "source": [
    "from math import floor\n",
    "floor(units)"
   ]
  },
  {
   "cell_type": "code",
   "execution_count": 19,
   "id": "342927ad",
   "metadata": {},
   "outputs": [
    {
     "data": {
      "text/plain": [
       "199776.6"
      ]
     },
     "execution_count": 19,
     "metadata": {},
     "output_type": "execute_result"
    }
   ],
   "source": [
    "order_total = floor(units) * avg_cost_unit\n",
    "order_total"
   ]
  },
  {
   "cell_type": "code",
   "execution_count": 20,
   "id": "1aa53b55",
   "metadata": {},
   "outputs": [
    {
     "data": {
      "text/plain": [
       "223.39999999999418"
      ]
     },
     "execution_count": 20,
     "metadata": {},
     "output_type": "execute_result"
    }
   ],
   "source": [
    "round(budget - order_total, 2)"
   ]
  },
  {
   "cell_type": "markdown",
   "id": "3278fc28",
   "metadata": {},
   "source": [
    "## Is the cost per unit of each supplier in EU the same?"
   ]
  },
  {
   "cell_type": "markdown",
   "id": "57eb2328",
   "metadata": {},
   "source": [
    "* Order to supplier 1\n",
    "    * Dollar Total Amount: 952000\n",
    "    * Unit type: M04\n",
    "    * Location: EU\n",
    "    * Number of Units: 4000\n",
    "* Order to supplier 3\n",
    "    * Dollar Total Amount: 1200550\n",
    "    * Unit type: M04\n",
    "    * Location: EU\n",
    "    * Number of Units: 5000"
   ]
  },
  {
   "cell_type": "code",
   "execution_count": 21,
   "id": "7186a3fb",
   "metadata": {},
   "outputs": [],
   "source": [
    "cost_1 = 952000 / 4000\n",
    "cost_2 = 1200550 / 5000"
   ]
  },
  {
   "cell_type": "code",
   "execution_count": 22,
   "id": "faba4b5e",
   "metadata": {},
   "outputs": [
    {
     "data": {
      "text/plain": [
       "238.0"
      ]
     },
     "execution_count": 22,
     "metadata": {},
     "output_type": "execute_result"
    }
   ],
   "source": [
    "cost_1"
   ]
  },
  {
   "cell_type": "code",
   "execution_count": 23,
   "id": "63ce75a4",
   "metadata": {},
   "outputs": [
    {
     "data": {
      "text/plain": [
       "240.11"
      ]
     },
     "execution_count": 23,
     "metadata": {},
     "output_type": "execute_result"
    }
   ],
   "source": [
    "cost_2"
   ]
  },
  {
   "cell_type": "code",
   "execution_count": 24,
   "id": "20276fc3",
   "metadata": {},
   "outputs": [
    {
     "data": {
      "text/plain": [
       "False"
      ]
     },
     "execution_count": 24,
     "metadata": {},
     "output_type": "execute_result"
    }
   ],
   "source": [
    "cost_1 == cost_2"
   ]
  },
  {
   "cell_type": "code",
   "execution_count": 25,
   "id": "522e18c7",
   "metadata": {},
   "outputs": [
    {
     "data": {
      "text/plain": [
       "True"
      ]
     },
     "execution_count": 25,
     "metadata": {},
     "output_type": "execute_result"
    }
   ],
   "source": [
    "cost_1 != cost_2"
   ]
  },
  {
   "cell_type": "markdown",
   "id": "802b97dd",
   "metadata": {},
   "source": [
    "The cost of each supplier is different."
   ]
  },
  {
   "cell_type": "markdown",
   "id": "ca85a56f",
   "metadata": {},
   "source": [
    "## Is it True that (on average) JP is more expensive than NA and NA more expensive than EU?"
   ]
  },
  {
   "cell_type": "code",
   "execution_count": 26,
   "id": "f9d8df7e",
   "metadata": {},
   "outputs": [],
   "source": [
    "cost_na = 2384400 / 10000\n",
    "cost_jp = 243.63\n",
    "cost_eu = (952000 + 1200550) / (5000 + 4000)"
   ]
  },
  {
   "cell_type": "code",
   "execution_count": 27,
   "id": "20d90c28",
   "metadata": {},
   "outputs": [
    {
     "data": {
      "text/plain": [
       "True"
      ]
     },
     "execution_count": 27,
     "metadata": {},
     "output_type": "execute_result"
    }
   ],
   "source": [
    "cost_jp > cost_na"
   ]
  },
  {
   "cell_type": "code",
   "execution_count": 28,
   "id": "6d805002",
   "metadata": {},
   "outputs": [
    {
     "data": {
      "text/plain": [
       "False"
      ]
     },
     "execution_count": 28,
     "metadata": {},
     "output_type": "execute_result"
    }
   ],
   "source": [
    "cost_na > cost_eu"
   ]
  },
  {
   "cell_type": "code",
   "execution_count": 29,
   "id": "4f425dd2",
   "metadata": {},
   "outputs": [
    {
     "data": {
      "text/plain": [
       "False"
      ]
     },
     "execution_count": 29,
     "metadata": {},
     "output_type": "execute_result"
    }
   ],
   "source": [
    "cost_jp > cost_na and cost_na > cost_eu"
   ]
  },
  {
   "cell_type": "code",
   "execution_count": 30,
   "id": "f266c5cc",
   "metadata": {},
   "outputs": [
    {
     "data": {
      "text/plain": [
       "False"
      ]
     },
     "execution_count": 30,
     "metadata": {},
     "output_type": "execute_result"
    }
   ],
   "source": [
    "cost_jp > cost_na > cost_eu"
   ]
  },
  {
   "cell_type": "code",
   "execution_count": 31,
   "id": "c52e4b97",
   "metadata": {},
   "outputs": [
    {
     "data": {
      "text/plain": [
       "True"
      ]
     },
     "execution_count": 31,
     "metadata": {},
     "output_type": "execute_result"
    }
   ],
   "source": [
    "cost_jp > cost_eu > cost_na"
   ]
  },
  {
   "cell_type": "markdown",
   "id": "9c4dd482",
   "metadata": {},
   "source": [
    "No, the order from most expensive to cheapest is: 1.JP 2.EU 3.NA"
   ]
  },
  {
   "cell_type": "markdown",
   "id": "f7ee032a",
   "metadata": {},
   "source": [
    "## Create the string to print the label of the shippment (Unit type, location, units, separated by dash)"
   ]
  },
  {
   "cell_type": "markdown",
   "id": "b3cca43f",
   "metadata": {},
   "source": [
    "Strings are concatenated using a `+` symbol."
   ]
  },
  {
   "cell_type": "code",
   "execution_count": 32,
   "id": "bfa804df",
   "metadata": {},
   "outputs": [
    {
     "ename": "NameError",
     "evalue": "name 'M04' is not defined",
     "output_type": "error",
     "traceback": [
      "\u001b[1;31m---------------------------------------------------------------------------\u001b[0m",
      "\u001b[1;31mNameError\u001b[0m                                 Traceback (most recent call last)",
      "Cell \u001b[1;32mIn[32], line 1\u001b[0m\n\u001b[1;32m----> 1\u001b[0m M04 \u001b[38;5;241m+\u001b[39m JP \u001b[38;5;241m+\u001b[39m \u001b[38;5;241m5000\u001b[39m\n",
      "\u001b[1;31mNameError\u001b[0m: name 'M04' is not defined"
     ]
    }
   ],
   "source": [
    "M04 + JP + 5000"
   ]
  },
  {
   "cell_type": "code",
   "execution_count": 33,
   "id": "d6fed606",
   "metadata": {},
   "outputs": [
    {
     "ename": "NameError",
     "evalue": "name 'M04' is not defined",
     "output_type": "error",
     "traceback": [
      "\u001b[1;31m---------------------------------------------------------------------------\u001b[0m",
      "\u001b[1;31mNameError\u001b[0m                                 Traceback (most recent call last)",
      "Cell \u001b[1;32mIn[33], line 1\u001b[0m\n\u001b[1;32m----> 1\u001b[0m unit_type \u001b[38;5;241m=\u001b[39m M04\n\u001b[0;32m      2\u001b[0m location \u001b[38;5;241m=\u001b[39m JP\n\u001b[0;32m      3\u001b[0m n_units \u001b[38;5;241m=\u001b[39m \u001b[38;5;241m5000\u001b[39m\n",
      "\u001b[1;31mNameError\u001b[0m: name 'M04' is not defined"
     ]
    }
   ],
   "source": [
    "unit_type = M04\n",
    "location = JP\n",
    "n_units = 5000"
   ]
  },
  {
   "cell_type": "markdown",
   "id": "a460c254",
   "metadata": {},
   "source": [
    "M04 is treated as a variable name in both cases. Strings are defined with single or double quotes."
   ]
  },
  {
   "cell_type": "code",
   "execution_count": 34,
   "id": "c8031f78",
   "metadata": {},
   "outputs": [],
   "source": [
    "unit_type = 'M04'\n",
    "location = 'JP'\n",
    "n_units = 5000"
   ]
  },
  {
   "cell_type": "code",
   "execution_count": 35,
   "id": "3968b6d5",
   "metadata": {},
   "outputs": [
    {
     "ename": "TypeError",
     "evalue": "can only concatenate str (not \"int\") to str",
     "output_type": "error",
     "traceback": [
      "\u001b[1;31m---------------------------------------------------------------------------\u001b[0m",
      "\u001b[1;31mTypeError\u001b[0m                                 Traceback (most recent call last)",
      "Cell \u001b[1;32mIn[35], line 1\u001b[0m\n\u001b[1;32m----> 1\u001b[0m unit_type \u001b[38;5;241m+\u001b[39m location \u001b[38;5;241m+\u001b[39m n_units\n",
      "\u001b[1;31mTypeError\u001b[0m: can only concatenate str (not \"int\") to str"
     ]
    }
   ],
   "source": [
    "unit_type + location + n_units"
   ]
  },
  {
   "cell_type": "markdown",
   "id": "3be16fbb",
   "metadata": {},
   "source": [
    "When concatenating strings, all elements must be a string (5000 is a number). To have 5000 as a string, we use '5000':"
   ]
  },
  {
   "cell_type": "code",
   "execution_count": 36,
   "id": "010d87ab",
   "metadata": {},
   "outputs": [],
   "source": [
    "n_units = '5000'"
   ]
  },
  {
   "cell_type": "code",
   "execution_count": 37,
   "id": "2d192bf4",
   "metadata": {},
   "outputs": [
    {
     "data": {
      "text/plain": [
       "'M04JP5000'"
      ]
     },
     "execution_count": 37,
     "metadata": {},
     "output_type": "execute_result"
    }
   ],
   "source": [
    "unit_type + location + n_units"
   ]
  },
  {
   "cell_type": "code",
   "execution_count": 38,
   "id": "423b441d",
   "metadata": {},
   "outputs": [
    {
     "data": {
      "text/plain": [
       "'M04-JP-5000'"
      ]
     },
     "execution_count": 38,
     "metadata": {},
     "output_type": "execute_result"
    }
   ],
   "source": [
    "unit_type + '-' + location + '-' + n_units"
   ]
  },
  {
   "cell_type": "code",
   "execution_count": 39,
   "id": "b9a62487",
   "metadata": {},
   "outputs": [
    {
     "data": {
      "text/plain": [
       "'M04-JP-5000'"
      ]
     },
     "execution_count": 39,
     "metadata": {},
     "output_type": "execute_result"
    }
   ],
   "source": [
    "dash = '-'\n",
    "label = unit_type + dash + location + dash + n_units\n",
    "label"
   ]
  },
  {
   "cell_type": "markdown",
   "id": "613c82d9",
   "metadata": {},
   "source": [
    "We can also calculate the length of the label:"
   ]
  },
  {
   "cell_type": "code",
   "execution_count": 40,
   "id": "2acd9379",
   "metadata": {},
   "outputs": [
    {
     "data": {
      "text/plain": [
       "11"
      ]
     },
     "execution_count": 40,
     "metadata": {},
     "output_type": "execute_result"
    }
   ],
   "source": [
    "len(label)"
   ]
  },
  {
   "cell_type": "markdown",
   "id": "4dbe8351",
   "metadata": {},
   "source": [
    "## Create a second label for shipping with a different carrier, all in lower-case letters and without the dash."
   ]
  },
  {
   "cell_type": "code",
   "execution_count": 41,
   "id": "e93bf70c",
   "metadata": {},
   "outputs": [
    {
     "data": {
      "text/plain": [
       "'M04-JP-5000'"
      ]
     },
     "execution_count": 41,
     "metadata": {},
     "output_type": "execute_result"
    }
   ],
   "source": [
    "label"
   ]
  },
  {
   "cell_type": "markdown",
   "id": "997e7a99",
   "metadata": {},
   "source": [
    "Strings have useful *methods* that can be called using the `.method()` syntax. Documentation is available online."
   ]
  },
  {
   "cell_type": "code",
   "execution_count": 42,
   "id": "e388329e",
   "metadata": {},
   "outputs": [
    {
     "data": {
      "text/plain": [
       "'m04-jp-5000'"
      ]
     },
     "execution_count": 42,
     "metadata": {},
     "output_type": "execute_result"
    }
   ],
   "source": [
    "label.lower()"
   ]
  },
  {
   "cell_type": "markdown",
   "id": "27f86962",
   "metadata": {},
   "source": [
    "The empty string can be used to eliminate sub-strings:"
   ]
  },
  {
   "cell_type": "code",
   "execution_count": 43,
   "id": "be0a59dc",
   "metadata": {},
   "outputs": [
    {
     "data": {
      "text/plain": [
       "'M04JP5000'"
      ]
     },
     "execution_count": 43,
     "metadata": {},
     "output_type": "execute_result"
    }
   ],
   "source": [
    "label.replace('-', '')"
   ]
  },
  {
   "cell_type": "markdown",
   "id": "6dcbb470",
   "metadata": {},
   "source": [
    "Methods can be concatenated:"
   ]
  },
  {
   "cell_type": "code",
   "execution_count": 44,
   "id": "9986d8e7",
   "metadata": {},
   "outputs": [
    {
     "data": {
      "text/plain": [
       "'m04jp5000'"
      ]
     },
     "execution_count": 44,
     "metadata": {},
     "output_type": "execute_result"
    }
   ],
   "source": [
    "label.replace('-', '').lower()"
   ]
  },
  {
   "cell_type": "code",
   "execution_count": 57,
   "id": "f735126f",
   "metadata": {},
   "outputs": [],
   "source": [
    "label2 = label.replace('-', '').lower() # Saving value for later"
   ]
  },
  {
   "cell_type": "markdown",
   "id": "7f029606",
   "metadata": {},
   "source": [
    "## From the second label, extract the unit type, location, and number of units."
   ]
  },
  {
   "cell_type": "code",
   "execution_count": 66,
   "id": "6723620b",
   "metadata": {},
   "outputs": [
    {
     "data": {
      "text/plain": [
       "'m04jp5000'"
      ]
     },
     "execution_count": 66,
     "metadata": {},
     "output_type": "execute_result"
    }
   ],
   "source": [
    "label2"
   ]
  },
  {
   "cell_type": "code",
   "execution_count": 69,
   "id": "bd70a2ed",
   "metadata": {},
   "outputs": [
    {
     "data": {
      "text/plain": [
       "'m04'"
      ]
     },
     "execution_count": 69,
     "metadata": {},
     "output_type": "execute_result"
    }
   ],
   "source": [
    "label2[0:3]"
   ]
  },
  {
   "cell_type": "code",
   "execution_count": 70,
   "id": "f894829d",
   "metadata": {},
   "outputs": [
    {
     "data": {
      "text/plain": [
       "'jp'"
      ]
     },
     "execution_count": 70,
     "metadata": {},
     "output_type": "execute_result"
    }
   ],
   "source": [
    "label2[3:5]"
   ]
  },
  {
   "cell_type": "code",
   "execution_count": 71,
   "id": "97ddf65d",
   "metadata": {},
   "outputs": [
    {
     "data": {
      "text/plain": [
       "'5000'"
      ]
     },
     "execution_count": 71,
     "metadata": {},
     "output_type": "execute_result"
    }
   ],
   "source": [
    "label2[5:]"
   ]
  },
  {
   "cell_type": "markdown",
   "id": "6414cf76",
   "metadata": {},
   "source": [
    "## Data types"
   ]
  },
  {
   "cell_type": "code",
   "execution_count": 45,
   "id": "c8e9f06d",
   "metadata": {},
   "outputs": [
    {
     "data": {
      "text/plain": [
       "int"
      ]
     },
     "execution_count": 45,
     "metadata": {},
     "output_type": "execute_result"
    }
   ],
   "source": [
    "type(2384400)"
   ]
  },
  {
   "cell_type": "code",
   "execution_count": 46,
   "id": "5078f091",
   "metadata": {},
   "outputs": [
    {
     "data": {
      "text/plain": [
       "float"
      ]
     },
     "execution_count": 46,
     "metadata": {},
     "output_type": "execute_result"
    }
   ],
   "source": [
    "type(2384400 / 10000)"
   ]
  },
  {
   "cell_type": "code",
   "execution_count": 47,
   "id": "218190d3",
   "metadata": {},
   "outputs": [
    {
     "ename": "NameError",
     "evalue": "name 'M04JP' is not defined",
     "output_type": "error",
     "traceback": [
      "\u001b[1;31m---------------------------------------------------------------------------\u001b[0m",
      "\u001b[1;31mNameError\u001b[0m                                 Traceback (most recent call last)",
      "Cell \u001b[1;32mIn[47], line 1\u001b[0m\n\u001b[1;32m----> 1\u001b[0m \u001b[38;5;28mtype\u001b[39m(M04JP)\n",
      "\u001b[1;31mNameError\u001b[0m: name 'M04JP' is not defined"
     ]
    }
   ],
   "source": [
    "type(M04JP)"
   ]
  },
  {
   "cell_type": "markdown",
   "id": "34bc3295",
   "metadata": {},
   "source": [
    "M04JP is a non-defined variable."
   ]
  },
  {
   "cell_type": "code",
   "execution_count": 48,
   "id": "8b1fca5e",
   "metadata": {},
   "outputs": [
    {
     "data": {
      "text/plain": [
       "str"
      ]
     },
     "execution_count": 48,
     "metadata": {},
     "output_type": "execute_result"
    }
   ],
   "source": [
    "type('M04JP')"
   ]
  },
  {
   "cell_type": "code",
   "execution_count": 49,
   "id": "77ef5105",
   "metadata": {},
   "outputs": [
    {
     "data": {
      "text/plain": [
       "238.44"
      ]
     },
     "execution_count": 49,
     "metadata": {},
     "output_type": "execute_result"
    }
   ],
   "source": [
    "avg_cost_unit = 2384400 / 10000\n",
    "avg_cost_unit"
   ]
  },
  {
   "cell_type": "code",
   "execution_count": 50,
   "id": "3f3808a7",
   "metadata": {},
   "outputs": [
    {
     "data": {
      "text/plain": [
       "True"
      ]
     },
     "execution_count": 50,
     "metadata": {},
     "output_type": "execute_result"
    }
   ],
   "source": [
    "avg_cost_unit < 300"
   ]
  },
  {
   "cell_type": "code",
   "execution_count": 51,
   "id": "d5cc119b",
   "metadata": {},
   "outputs": [
    {
     "data": {
      "text/plain": [
       "bool"
      ]
     },
     "execution_count": 51,
     "metadata": {},
     "output_type": "execute_result"
    }
   ],
   "source": [
    "type(avg_cost_unit < 200)"
   ]
  },
  {
   "cell_type": "code",
   "execution_count": 52,
   "id": "2363cbb0",
   "metadata": {},
   "outputs": [
    {
     "data": {
      "text/plain": [
       "bool"
      ]
     },
     "execution_count": 52,
     "metadata": {},
     "output_type": "execute_result"
    }
   ],
   "source": [
    "type(False)"
   ]
  },
  {
   "cell_type": "code",
   "execution_count": 53,
   "id": "e54d728c",
   "metadata": {},
   "outputs": [
    {
     "data": {
      "text/plain": [
       "238.44"
      ]
     },
     "execution_count": 53,
     "metadata": {},
     "output_type": "execute_result"
    }
   ],
   "source": [
    "avg_cost_unit"
   ]
  },
  {
   "cell_type": "markdown",
   "id": "7397d798",
   "metadata": {},
   "source": [
    "We can also convert the type if needed:"
   ]
  },
  {
   "cell_type": "code",
   "execution_count": 54,
   "id": "838f6605",
   "metadata": {},
   "outputs": [
    {
     "data": {
      "text/plain": [
       "238"
      ]
     },
     "execution_count": 54,
     "metadata": {},
     "output_type": "execute_result"
    }
   ],
   "source": [
    "int(avg_cost_unit)"
   ]
  },
  {
   "cell_type": "code",
   "execution_count": 55,
   "id": "c9c361c5",
   "metadata": {},
   "outputs": [
    {
     "data": {
      "text/plain": [
       "'238.44'"
      ]
     },
     "execution_count": 55,
     "metadata": {},
     "output_type": "execute_result"
    }
   ],
   "source": [
    "str(avg_cost_unit)"
   ]
  },
  {
   "cell_type": "code",
   "execution_count": 56,
   "id": "4bb60fb8",
   "metadata": {},
   "outputs": [
    {
     "data": {
      "text/plain": [
       "238.0"
      ]
     },
     "execution_count": 56,
     "metadata": {},
     "output_type": "execute_result"
    }
   ],
   "source": [
    "float(int(avg_cost_unit))"
   ]
  },
  {
   "cell_type": "code",
   "execution_count": 75,
   "id": "a2bdb260",
   "metadata": {},
   "outputs": [
    {
     "data": {
      "text/plain": [
       "5000"
      ]
     },
     "execution_count": 75,
     "metadata": {},
     "output_type": "execute_result"
    }
   ],
   "source": [
    "int(label2[5:])"
   ]
  },
  {
   "cell_type": "code",
   "execution_count": null,
   "id": "534fd777",
   "metadata": {},
   "outputs": [],
   "source": []
  }
 ],
 "metadata": {
  "kernelspec": {
   "display_name": "Python 3 (ipykernel)",
   "language": "python",
   "name": "python3"
  },
  "language_info": {
   "codemirror_mode": {
    "name": "ipython",
    "version": 3
   },
   "file_extension": ".py",
   "mimetype": "text/x-python",
   "name": "python",
   "nbconvert_exporter": "python",
   "pygments_lexer": "ipython3",
   "version": "3.11.5"
  }
 },
 "nbformat": 4,
 "nbformat_minor": 5
}
