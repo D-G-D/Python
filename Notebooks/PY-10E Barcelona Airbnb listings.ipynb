{
 "cells": [
  {
   "cell_type": "markdown",
   "id": "f021a86e",
   "metadata": {},
   "source": [
    "# [PY-10E] Barcelona Airbnb listings\n",
    "\n",
    "## Introduction\n",
    "\n",
    "**Airbnb** is a peer-to-peer online marketplace and homestay network, which enables people to list or rent short-term lodging in residential properties, with the cost of accommodation set by the property owner, called the **host** at Airbnb. The company receives percentage service fees from both guests and hosts in conjunction with every booking. Starting in 2008, it has grown exponentially, and it currently has over 6 million listings in about 200 countries.\n",
    "\n",
    "Airbnb currently releases and updates data at the **Inside Airbnb** site (`www.insideairbnb.com`). The updates posted in March 2023 cover 116 areas, most of them in US and Europe. This example uses data from Barcelona. In Barcelona, vacation apartments are subject to the highest rate of property tax, and platforms must share data with regulators.\n",
    "\n",
    "The file `airbnb.csv` contains data on 15,655 Airbnb **listings** in Barcelona. The language in the descriptions is typically English or Spanish (with exceptions). The text comes in **UTF-8 encoding**, so special characters may not be correctly shown (in Spanish words such as 'habitación') in some applications like Excel.\n",
    "\n",
    "## The data set\n",
    "\n",
    "The columns of the source file are:\n",
    "\n",
    "* `listing_id`, a unique listing's ID. An active listing is a property listed on Airbnb. Listings may include entire homes or apartments, private rooms or shared spaces.\n",
    "\n",
    "* `host_id`, a unique host's ID.\n",
    "\n",
    "* `host_since`, the date of the host's first listing in Airbnb, as 'yyyy-mm-dd'.\n",
    "\n",
    "* `name`, the listing's name. A minimal description (maximum 35 characters) of the place, intended to be appealing, such as 'Centric Bohemian next Ramblas & Macba'.\n",
    "\n",
    "* `neighbourhood`, the **neighbourhood** (barrio) of the listing. The neighbourhoods are sourced from the city.\n",
    "\n",
    "* `district`, the district of the listing. The districts, called **neighbourhood groups** at Airbnb, are sourced from the city. There are 10 districts in Barcelona, each containing several neighbourhoods.\n",
    "\n",
    "* `property_type`, the type of property listed. 75% of the listings come as 'Entire rental unit', or 'Private room in rental unit', but Airbnb admits many other possibilities.\n",
    "\n",
    "* `room_type`, taking values 'Entire home/apt', 'Private room', 'Shared room' and 'Hotel room'.\n",
    "\n",
    "* `bedrooms`, the number of available bedrooms.\n",
    "\n",
    "* `price`, the daily listing's price on that date, in euros. The price shown is for the listing as a whole, not per person. The price that you see when you search Airbnb (with dates selected) is the total price divided by the number of nights you selected. When a listing has been booked for several days, the price can be lower, since the host can apply different prices depending on the number of days booked.\n",
    "\n",
    "* `number_of_reviews`, the number of reviews of that listing that have been posted.\n",
    "\n",
    "* `review_scores_rating`, the average reviewers' rating of overall experience (*What was your guest’s overall experience?*). Listings are rated in the range 1-100.\n",
    "\n",
    "Source: `http://insideairbnb.com/get-the-data`.\n",
    "\n",
    "## Questions\n",
    "\n",
    "Q1. How many **duplicates** do you find in this data set? Drop them.\n",
    "\n",
    "Q2. What is the proportion of listings whose rating is **missing**?\n",
    "\n",
    "Q3. Use a histogram to explore the distribution of the price. \n",
    "\n",
    "Q4. What is the average price per room type? \n",
    "\n",
    "Q5. In which neighbourhoods do we find more listings? Are they more expensive?\n",
    "\n",
    "## Importing the data\n",
    "\n",
    "We import Pandas as usual."
   ]
  },
  {
   "cell_type": "code",
   "execution_count": 1,
   "id": "129f5472",
   "metadata": {},
   "outputs": [],
   "source": [
    "import pandas as pd"
   ]
  },
  {
   "cell_type": "markdown",
   "id": "1eb64907",
   "metadata": {},
   "source": [
    "In this example, we use a remote data source, creating the path to the file from the github folder and the name of the file."
   ]
  },
  {
   "cell_type": "code",
   "execution_count": 2,
   "id": "e82d20c7",
   "metadata": {},
   "outputs": [],
   "source": [
    "folder_path = 'https://raw.githubusercontent.com/D-G-D/Python//main/Data/'"
   ]
  },
  {
   "cell_type": "markdown",
   "id": "6321ab72",
   "metadata": {},
   "source": [
    "To import the data to a Pandas data frame we use the function `read_csv()`. In this example, we use the parameter `index_col` to specify the column `listing_id` as the index. "
   ]
  },
  {
   "cell_type": "code",
   "execution_count": 3,
   "id": "5294ef50",
   "metadata": {},
   "outputs": [],
   "source": [
    "df = pd.read_csv(folder_path + 'airbnb.csv', index_col=0)"
   ]
  },
  {
   "cell_type": "markdown",
   "id": "2adc71e1",
   "metadata": {},
   "source": [
    "## Exploring the data\n",
    "\n",
    "As you can see in the report printted by the method `.info()`, the index of our data frame is an `Int64Index`, meaning that all the entries are integers, but not consecutive integers generated automatically as in a `RangeIndex`. Note that `listing_id` is not included in the column list."
   ]
  },
  {
   "cell_type": "code",
   "execution_count": 4,
   "id": "808378c4",
   "metadata": {},
   "outputs": [
    {
     "name": "stdout",
     "output_type": "stream",
     "text": [
      "<class 'pandas.core.frame.DataFrame'>\n",
      "Index: 15655 entries, 13977576 to 52874282\n",
      "Data columns (total 11 columns):\n",
      " #   Column                Non-Null Count  Dtype  \n",
      "---  ------                --------------  -----  \n",
      " 0   host_id               15655 non-null  int64  \n",
      " 1   host_since            15653 non-null  object \n",
      " 2   name                  15646 non-null  object \n",
      " 3   neighbourhood         15655 non-null  object \n",
      " 4   district              15655 non-null  object \n",
      " 5   property_type         15655 non-null  object \n",
      " 6   room_type             15655 non-null  object \n",
      " 7   bedrooms              15098 non-null  float64\n",
      " 8   price                 15655 non-null  float64\n",
      " 9   number_of_reviews     15655 non-null  int64  \n",
      " 10  review_scores_rating  12176 non-null  float64\n",
      "dtypes: float64(3), int64(2), object(6)\n",
      "memory usage: 1.4+ MB\n"
     ]
    }
   ],
   "source": [
    "df.info()"
   ]
  },
  {
   "cell_type": "markdown",
   "id": "e623f6e5",
   "metadata": {},
   "source": [
    "The first rows can be displayed with the method `.head()`."
   ]
  },
  {
   "cell_type": "code",
   "execution_count": 5,
   "id": "d6c95965",
   "metadata": {},
   "outputs": [
    {
     "data": {
      "text/html": [
       "<div>\n",
       "<style scoped>\n",
       "    .dataframe tbody tr th:only-of-type {\n",
       "        vertical-align: middle;\n",
       "    }\n",
       "\n",
       "    .dataframe tbody tr th {\n",
       "        vertical-align: top;\n",
       "    }\n",
       "\n",
       "    .dataframe thead th {\n",
       "        text-align: right;\n",
       "    }\n",
       "</style>\n",
       "<table border=\"1\" class=\"dataframe\">\n",
       "  <thead>\n",
       "    <tr style=\"text-align: right;\">\n",
       "      <th></th>\n",
       "      <th>host_id</th>\n",
       "      <th>host_since</th>\n",
       "      <th>name</th>\n",
       "      <th>neighbourhood</th>\n",
       "      <th>district</th>\n",
       "      <th>property_type</th>\n",
       "      <th>room_type</th>\n",
       "      <th>bedrooms</th>\n",
       "      <th>price</th>\n",
       "      <th>number_of_reviews</th>\n",
       "      <th>review_scores_rating</th>\n",
       "    </tr>\n",
       "    <tr>\n",
       "      <th>listing_id</th>\n",
       "      <th></th>\n",
       "      <th></th>\n",
       "      <th></th>\n",
       "      <th></th>\n",
       "      <th></th>\n",
       "      <th></th>\n",
       "      <th></th>\n",
       "      <th></th>\n",
       "      <th></th>\n",
       "      <th></th>\n",
       "      <th></th>\n",
       "    </tr>\n",
       "  </thead>\n",
       "  <tbody>\n",
       "    <tr>\n",
       "      <th>13977576</th>\n",
       "      <td>64903899</td>\n",
       "      <td>2016-03-29</td>\n",
       "      <td>Habitación individual es Barcelona</td>\n",
       "      <td>Hostafrancs</td>\n",
       "      <td>Sants-Montjuïc</td>\n",
       "      <td>Private room in rental unit</td>\n",
       "      <td>Private room</td>\n",
       "      <td>1.0</td>\n",
       "      <td>12.0</td>\n",
       "      <td>1</td>\n",
       "      <td>0.00</td>\n",
       "    </tr>\n",
       "    <tr>\n",
       "      <th>42105584</th>\n",
       "      <td>333969184</td>\n",
       "      <td>2020-02-06</td>\n",
       "      <td>Habitación M&amp;D</td>\n",
       "      <td>la Prosperitat</td>\n",
       "      <td>Nou Barris</td>\n",
       "      <td>Private room in rental unit</td>\n",
       "      <td>Private room</td>\n",
       "      <td>NaN</td>\n",
       "      <td>25.0</td>\n",
       "      <td>0</td>\n",
       "      <td>NaN</td>\n",
       "    </tr>\n",
       "    <tr>\n",
       "      <th>33727898</th>\n",
       "      <td>251710733</td>\n",
       "      <td>2019-03-28</td>\n",
       "      <td>Spacious and bright apartment next to Plaza Es...</td>\n",
       "      <td>Sant Antoni</td>\n",
       "      <td>Eixample</td>\n",
       "      <td>Entire rental unit</td>\n",
       "      <td>Entire home/apt</td>\n",
       "      <td>3.0</td>\n",
       "      <td>300.0</td>\n",
       "      <td>30</td>\n",
       "      <td>5.00</td>\n",
       "    </tr>\n",
       "    <tr>\n",
       "      <th>44995311</th>\n",
       "      <td>363074093</td>\n",
       "      <td>2020-08-18</td>\n",
       "      <td>Single Room, City Center, Private Bathroom</td>\n",
       "      <td>la Dreta de l'Eixample</td>\n",
       "      <td>Eixample</td>\n",
       "      <td>Private room in hostel</td>\n",
       "      <td>Private room</td>\n",
       "      <td>1.0</td>\n",
       "      <td>83.0</td>\n",
       "      <td>11</td>\n",
       "      <td>4.82</td>\n",
       "    </tr>\n",
       "    <tr>\n",
       "      <th>15763812</th>\n",
       "      <td>101927904</td>\n",
       "      <td>2016-10-31</td>\n",
       "      <td>HABITACIÓN PLAZA ESPAÑA</td>\n",
       "      <td>el Poble Sec</td>\n",
       "      <td>Sants-Montjuïc</td>\n",
       "      <td>Private room in rental unit</td>\n",
       "      <td>Private room</td>\n",
       "      <td>1.0</td>\n",
       "      <td>38.0</td>\n",
       "      <td>70</td>\n",
       "      <td>4.75</td>\n",
       "    </tr>\n",
       "  </tbody>\n",
       "</table>\n",
       "</div>"
      ],
      "text/plain": [
       "              host_id  host_since  \\\n",
       "listing_id                          \n",
       "13977576     64903899  2016-03-29   \n",
       "42105584    333969184  2020-02-06   \n",
       "33727898    251710733  2019-03-28   \n",
       "44995311    363074093  2020-08-18   \n",
       "15763812    101927904  2016-10-31   \n",
       "\n",
       "                                                         name  \\\n",
       "listing_id                                                      \n",
       "13977576                   Habitación individual es Barcelona   \n",
       "42105584                                       Habitación M&D   \n",
       "33727898    Spacious and bright apartment next to Plaza Es...   \n",
       "44995311           Single Room, City Center, Private Bathroom   \n",
       "15763812                              HABITACIÓN PLAZA ESPAÑA   \n",
       "\n",
       "                     neighbourhood        district  \\\n",
       "listing_id                                           \n",
       "13977576               Hostafrancs  Sants-Montjuïc   \n",
       "42105584            la Prosperitat      Nou Barris   \n",
       "33727898               Sant Antoni        Eixample   \n",
       "44995311    la Dreta de l'Eixample        Eixample   \n",
       "15763812              el Poble Sec  Sants-Montjuïc   \n",
       "\n",
       "                          property_type        room_type  bedrooms  price  \\\n",
       "listing_id                                                                  \n",
       "13977576    Private room in rental unit     Private room       1.0   12.0   \n",
       "42105584    Private room in rental unit     Private room       NaN   25.0   \n",
       "33727898             Entire rental unit  Entire home/apt       3.0  300.0   \n",
       "44995311         Private room in hostel     Private room       1.0   83.0   \n",
       "15763812    Private room in rental unit     Private room       1.0   38.0   \n",
       "\n",
       "            number_of_reviews  review_scores_rating  \n",
       "listing_id                                           \n",
       "13977576                    1                  0.00  \n",
       "42105584                    0                   NaN  \n",
       "33727898                   30                  5.00  \n",
       "44995311                   11                  4.82  \n",
       "15763812                   70                  4.75  "
      ]
     },
     "execution_count": 5,
     "metadata": {},
     "output_type": "execute_result"
    }
   ],
   "source": [
    "df.head()"
   ]
  },
  {
   "cell_type": "markdown",
   "id": "0e4be6a7",
   "metadata": {},
   "source": [
    "## Q1. Duplicate listings\n",
    "\n",
    "Duplicates can be detected with the method `.duplicated()`, which returns a Boolean series. In this example, it makes sense to apply it to the index, to check whether there are duplicated listing ID's. Note that Pandas has no rule against duplicated indexes, though in most applications to real data, in which we take the index as an identifier of the row, duplicated indexes are *wrong*.\n",
    "\n",
    "In this data set, the listing's ID in this data set is never duplicated, as we see next. The method `.duplicated()` uses a top-down search to check whether a particular index label is duplicated (meaning that it has already appeared), returning a `True`/`False` value. These Booleans are stored in the series `df.index.duplicated()`. By applying `.sum()`, we convert the Booleans to integers (1/0), so the sum is equal to the number of `True` values, that is, the number of duplicates. This calculation illustrates how computers count the times an expression is true. Note that, if an index label appears $n$ times, it is counted as $n - 1$ duplicates."
   ]
  },
  {
   "cell_type": "code",
   "execution_count": 6,
   "id": "f3e1ce26",
   "metadata": {},
   "outputs": [
    {
     "data": {
      "text/plain": [
       "0"
      ]
     },
     "execution_count": 6,
     "metadata": {},
     "output_type": "execute_result"
    }
   ],
   "source": [
    "df.index.duplicated().sum()"
   ]
  },
  {
   "cell_type": "markdown",
   "id": "6ae3c2f5",
   "metadata": {},
   "source": [
    "The number of duplicated rows is found using the same logic. The index is not checked now. Note that `df.duplicated()` returns `True` when the whole row (all entries) is duplicated. "
   ]
  },
  {
   "cell_type": "code",
   "execution_count": 7,
   "id": "388b5ded",
   "metadata": {},
   "outputs": [
    {
     "data": {
      "text/plain": [
       "28"
      ]
     },
     "execution_count": 7,
     "metadata": {},
     "output_type": "execute_result"
    }
   ],
   "source": [
    "df.duplicated().sum()"
   ]
  },
  {
   "cell_type": "markdown",
   "id": "c7a4e6fd",
   "metadata": {},
   "source": [
    "We find 28 cases. They correspond to listings which have exactly the same data. This may happen, *e.g*. when they refer to beds in a shared bedroom. Neverthless, following the instructions, we drop the duplicates."
   ]
  },
  {
   "cell_type": "code",
   "execution_count": 8,
   "id": "4c9fa794",
   "metadata": {},
   "outputs": [],
   "source": [
    "df = df.drop_duplicates()"
   ]
  },
  {
   "cell_type": "markdown",
   "id": "49188a56",
   "metadata": {},
   "source": [
    "We are left with a slightly smaller data set."
   ]
  },
  {
   "cell_type": "code",
   "execution_count": 9,
   "id": "9ca44691",
   "metadata": {},
   "outputs": [
    {
     "data": {
      "text/plain": [
       "(15627, 11)"
      ]
     },
     "execution_count": 9,
     "metadata": {},
     "output_type": "execute_result"
    }
   ],
   "source": [
    "df.shape"
   ]
  },
  {
   "cell_type": "markdown",
   "id": "9f607a8c",
   "metadata": {},
   "source": [
    "## Q2. Proportion of listings with missing ratings\n",
    "\n",
    "The report extracted with `.info()` was already letting us know that some columns have missing values. In particular, we have a relevant number of listings for which rating scores are not available (many guests don't rate the lodgings). A specific report on this, which can be restricted to some selected columns, can be extracted with the method `.isna()`, which returns a Boolean data frame of the same shape indicating whether an entry is missing. \n",
    "\n",
    "By applying `.sum()` after `.isna()`, we would obtain the column totals, that is, the numbers of missing values for every column. By applying `.mean()`, we obtain the number of missing values (*i.e*. the column totals) divided by the number of listings (*i.e*. the number of rows). This is the proportion of missing values."
   ]
  },
  {
   "cell_type": "code",
   "execution_count": 10,
   "id": "f5810444",
   "metadata": {},
   "outputs": [
    {
     "data": {
      "text/plain": [
       "host_id                 0.000000\n",
       "host_since              0.000128\n",
       "name                    0.000576\n",
       "neighbourhood           0.000000\n",
       "district                0.000000\n",
       "property_type           0.000000\n",
       "room_type               0.000000\n",
       "bedrooms                0.035643\n",
       "price                   0.000000\n",
       "number_of_reviews       0.000000\n",
       "review_scores_rating    0.220900\n",
       "dtype: float64"
      ]
     },
     "execution_count": 10,
     "metadata": {},
     "output_type": "execute_result"
    }
   ],
   "source": [
    "df.isna().mean()"
   ]
  },
  {
   "cell_type": "markdown",
   "id": "5c756ae7",
   "metadata": {},
   "source": [
    "So, we find a 22.1% of listings with no reviews."
   ]
  },
  {
   "cell_type": "code",
   "execution_count": 11,
   "id": "e47c42e0",
   "metadata": {},
   "outputs": [
    {
     "data": {
      "text/plain": [
       "0.221"
      ]
     },
     "execution_count": 11,
     "metadata": {},
     "output_type": "execute_result"
    }
   ],
   "source": [
    "df['review_scores_rating'].isna().mean().round(3)"
   ]
  },
  {
   "cell_type": "markdown",
   "id": "6943c877",
   "metadata": {},
   "source": [
    "## Q3. Distribution of the price\n",
    "\n",
    "A histogram for the prices can be obtained with the method `.plot.hist()`, which has already been used in the preceding example."
   ]
  },
  {
   "cell_type": "code",
   "execution_count": 12,
   "id": "ec70c81b",
   "metadata": {},
   "outputs": [
    {
     "data": {
      "text/plain": [
       "<Axes: title={'center': 'Figure 1. Distribution of the price'}, xlabel='Price per night (euros)', ylabel='Frequency'>"
      ]
     },
     "execution_count": 12,
     "metadata": {},
     "output_type": "execute_result"
    },
    {
     "data": {
      "image/png": "[encoded data removed]",
      "text/plain": [
       "<Figure size 700x500 with 1 Axes>"
      ]
     },
     "metadata": {},
     "output_type": "display_data"
    }
   ],
   "source": [
    "df['price'].plot.hist(figsize=(7,5), title='Figure 1. Distribution of the price',\n",
    "    color='gray', edgecolor='white', xlabel='Price per night (euros)')"
   ]
  },
  {
   "cell_type": "markdown",
   "id": "5d046d97",
   "metadata": {},
   "source": [
    "Is this histogram useful? Not much, since some very expensive lodgings distort the whole picture, which is a frequent issue with skewed distributions. These extreme prices look errors and, indeed, by using the listing's ID, it can be checked that some of them don't match the prices given in the Airbnb website. Another perspective of the distribution can be given by the statistical summary printed by `.describe()`."
   ]
  },
  {
   "cell_type": "code",
   "execution_count": 13,
   "id": "f5ae8bb4",
   "metadata": {},
   "outputs": [
    {
     "data": {
      "text/plain": [
       "count    15627.000000\n",
       "mean       155.743137\n",
       "std        966.968387\n",
       "min          0.000000\n",
       "25%         50.000000\n",
       "50%         99.000000\n",
       "75%        164.000000\n",
       "max      90000.000000\n",
       "Name: price, dtype: float64"
      ]
     },
     "execution_count": 13,
     "metadata": {},
     "output_type": "execute_result"
    }
   ],
   "source": [
    "df['price'].describe()"
   ]
  },
  {
   "cell_type": "markdown",
   "id": "bc4c4c55",
   "metadata": {},
   "source": [
    "For a  better picture of the bulk of Airbnb listings we could **trim the data**. For instance, we can plot a histogram for the listings with prices in a reasonable interval. For an example, we create the filter:"
   ]
  },
  {
   "cell_type": "code",
   "execution_count": 14,
   "id": "7321ac5c",
   "metadata": {},
   "outputs": [],
   "source": [
    "filter = df['price'].between(25,175)"
   ]
  },
  {
   "cell_type": "markdown",
   "id": "e79092c3",
   "metadata": {},
   "source": [
    "The role of this filter is obvious. An equivalent condition would be `(df['price'] >= 25) & (df['price'] <= 175)`. Note that the method `.between()` includes the two limits of the interval. Now, we draw a histogram including the listings that pass the filter."
   ]
  },
  {
   "cell_type": "code",
   "execution_count": 15,
   "id": "310ad837",
   "metadata": {},
   "outputs": [
    {
     "data": {
      "text/plain": [
       "<Axes: title={'center': 'Figure 2. Distribution of the price (trimmed data)'}, xlabel='Price per night (euros)', ylabel='Frequency'>"
      ]
     },
     "execution_count": 15,
     "metadata": {},
     "output_type": "execute_result"
    },
    {
     "data": {
      "image/png": "[encoded data removed]",
      "text/plain": [
       "<Figure size 700x500 with 1 Axes>"
      ]
     },
     "metadata": {},
     "output_type": "display_data"
    }
   ],
   "source": [
    "df['price'][filter].plot.hist(figsize=(7,5),\n",
    "                              title='Figure 2. Distribution of the price (trimmed data)',\n",
    "                              color='gray', edgecolor='white', bins=30, xlabel='Price per night (euros)')"
   ]
  },
  {
   "cell_type": "markdown",
   "id": "2a4aa0f7",
   "metadata": {},
   "source": [
    "The argument `bin s=30` ensures that the intervals is partitioned in subintervals whose limits are multiples of 5, which makes the figure more appealing. Prices don't change continuously, and hosts prefer prices that are multiples of 10. The histogram also shows that 50, 100 and 150 euros are popular prices.\n",
    "\n",
    "*Note*. The default for counting the observations in every bin is: for an interval of limits $a$ and $b$, the values $x$ such that $a \\le x < b$ are counted. Except for the last interval, for which the right limit is also counted.\n",
    "\n",
    "## Q4. Average price per room type\n",
    "\n",
    "A pivot table with the average price per room type can be calculated with the method `.pivot_table()`. The parameters `values` and `index` specify the column to be aggregated and the column to be used for grouping, respectively."
   ]
  },
  {
   "cell_type": "code",
   "execution_count": 16,
   "id": "ba30dc09",
   "metadata": {},
   "outputs": [
    {
     "data": {
      "text/html": [
       "<div>\n",
       "<style scoped>\n",
       "    .dataframe tbody tr th:only-of-type {\n",
       "        vertical-align: middle;\n",
       "    }\n",
       "\n",
       "    .dataframe tbody tr th {\n",
       "        vertical-align: top;\n",
       "    }\n",
       "\n",
       "    .dataframe thead th {\n",
       "        text-align: right;\n",
       "    }\n",
       "</style>\n",
       "<table border=\"1\" class=\"dataframe\">\n",
       "  <thead>\n",
       "    <tr style=\"text-align: right;\">\n",
       "      <th></th>\n",
       "      <th>price</th>\n",
       "    </tr>\n",
       "    <tr>\n",
       "      <th>room_type</th>\n",
       "      <th></th>\n",
       "    </tr>\n",
       "  </thead>\n",
       "  <tbody>\n",
       "    <tr>\n",
       "      <th>Entire home/apt</th>\n",
       "      <td>181.0</td>\n",
       "    </tr>\n",
       "    <tr>\n",
       "      <th>Hotel room</th>\n",
       "      <td>206.0</td>\n",
       "    </tr>\n",
       "    <tr>\n",
       "      <th>Private room</th>\n",
       "      <td>117.0</td>\n",
       "    </tr>\n",
       "    <tr>\n",
       "      <th>Shared room</th>\n",
       "      <td>48.0</td>\n",
       "    </tr>\n",
       "  </tbody>\n",
       "</table>\n",
       "</div>"
      ],
      "text/plain": [
       "                 price\n",
       "room_type             \n",
       "Entire home/apt  181.0\n",
       "Hotel room       206.0\n",
       "Private room     117.0\n",
       "Shared room       48.0"
      ]
     },
     "execution_count": 16,
     "metadata": {},
     "output_type": "execute_result"
    }
   ],
   "source": [
    "pd.pivot_table(df, values='price', index='room_type', aggfunc='mean').round()"
   ]
  },
  {
   "cell_type": "markdown",
   "id": "f2dbf632",
   "metadata": {},
   "source": [
    "But, how informative is the average price? With skewed distributions, the extreme observations on the right tail \"pull\" the mean, so it may fall far from the middle of the distribution. In these cases, the **median** gives a better description of the mid prices. To get the median price per room type, we use `aggfunc='median'` (no need of rounding here). "
   ]
  },
  {
   "cell_type": "code",
   "execution_count": 17,
   "id": "e62ad52f",
   "metadata": {},
   "outputs": [
    {
     "data": {
      "text/html": [
       "<div>\n",
       "<style scoped>\n",
       "    .dataframe tbody tr th:only-of-type {\n",
       "        vertical-align: middle;\n",
       "    }\n",
       "\n",
       "    .dataframe tbody tr th {\n",
       "        vertical-align: top;\n",
       "    }\n",
       "\n",
       "    .dataframe thead th {\n",
       "        text-align: right;\n",
       "    }\n",
       "</style>\n",
       "<table border=\"1\" class=\"dataframe\">\n",
       "  <thead>\n",
       "    <tr style=\"text-align: right;\">\n",
       "      <th></th>\n",
       "      <th>price</th>\n",
       "    </tr>\n",
       "    <tr>\n",
       "      <th>room_type</th>\n",
       "      <th></th>\n",
       "    </tr>\n",
       "  </thead>\n",
       "  <tbody>\n",
       "    <tr>\n",
       "      <th>Entire home/apt</th>\n",
       "      <td>135.0</td>\n",
       "    </tr>\n",
       "    <tr>\n",
       "      <th>Hotel room</th>\n",
       "      <td>174.0</td>\n",
       "    </tr>\n",
       "    <tr>\n",
       "      <th>Private room</th>\n",
       "      <td>48.0</td>\n",
       "    </tr>\n",
       "    <tr>\n",
       "      <th>Shared room</th>\n",
       "      <td>32.0</td>\n",
       "    </tr>\n",
       "  </tbody>\n",
       "</table>\n",
       "</div>"
      ],
      "text/plain": [
       "                 price\n",
       "room_type             \n",
       "Entire home/apt  135.0\n",
       "Hotel room       174.0\n",
       "Private room      48.0\n",
       "Shared room       32.0"
      ]
     },
     "execution_count": 17,
     "metadata": {},
     "output_type": "execute_result"
    }
   ],
   "source": [
    "pd.pivot_table(df, values='price', index='room_type', aggfunc='median')"
   ]
  },
  {
   "cell_type": "markdown",
   "id": "753c7ca2",
   "metadata": {},
   "source": [
    "You may prefer to display these tables as **bar charts**. Note that, even if we see a pivot table as something that the Python kernel \"prints\", these methods (except `.info()`) return new Pandas objects. Our second pivot table, for instance, is Pandas series, with the room types as the index. So, we can use the table to display a bar chart:"
   ]
  },
  {
   "cell_type": "code",
   "execution_count": 18,
   "id": "5c6ed959",
   "metadata": {},
   "outputs": [
    {
     "data": {
      "image/png": "[encoded data removed]",
      "text/plain": [
       "<Figure size 700x500 with 1 Axes>"
      ]
     },
     "metadata": {},
     "output_type": "display_data"
    }
   ],
   "source": [
    "roomtype_price =  pd.pivot_table(df, values='price', index='room_type', aggfunc='median')\n",
    "roomtype_price.plot.bar(figsize=(7,5), legend=False,\n",
    "                        title='Figure 3. Median price per room type', xlabel='Room type',\n",
    "                        color='gray', ylabel='Price per night (euros)');"
   ]
  },
  {
   "cell_type": "markdown",
   "id": "261946e4",
   "metadata": {},
   "source": [
    "## Q5. Top-10 neighbourhoods\n",
    "\n",
    "To close this analysis of the Barcelona Airbnb data, we take a look at the neighbourhoods with more listings. The top ten list can be extracted with the method `.value_counts()`, which returns a series with counts of the occurrences of the values of a series, sorted top down. These values come as the index."
   ]
  },
  {
   "cell_type": "code",
   "execution_count": 19,
   "id": "9970e88c",
   "metadata": {},
   "outputs": [
    {
     "data": {
      "text/plain": [
       "neighbourhood\n",
       "la Dreta de l'Eixample                   2029\n",
       "el Raval                                 1251\n",
       "el Barri Gòtic                           1064\n",
       "Sant Pere, Santa Caterina i la Ribera     979\n",
       "la Vila de Gràcia                         943\n",
       "la Sagrada Família                        942\n",
       "l'Antiga Esquerra de l'Eixample           892\n",
       "Sant Antoni                               781\n",
       "el Poble Sec                              738\n",
       "la Nova Esquerra de l'Eixample            612\n",
       "Name: count, dtype: int64"
      ]
     },
     "execution_count": 19,
     "metadata": {},
     "output_type": "execute_result"
    }
   ],
   "source": [
    "df['neighbourhood'].value_counts().head(10)"
   ]
  },
  {
   "cell_type": "markdown",
   "id": "94d00803",
   "metadata": {},
   "source": [
    "Are these neighbourhoods more expensive? We wonder if there is an association between the mid price and the amount of property listed. To get the answer, we could use a pivot table with the neighbourhood in the rows and the number of listings and the mid price in the columns. Instead, we apply here the method `.groupby()`, with two aggregate functions. The function `count()` counts the non missing observations.\n",
    "\n",
    "Except for la Dreta de l'Eixample, we don't find higher prices associated to more listings. So, the picture is more complex than that."
   ]
  },
  {
   "cell_type": "code",
   "execution_count": 20,
   "id": "55936f33",
   "metadata": {},
   "outputs": [
    {
     "data": {
      "text/html": [
       "<div>\n",
       "<style scoped>\n",
       "    .dataframe tbody tr th:only-of-type {\n",
       "        vertical-align: middle;\n",
       "    }\n",
       "\n",
       "    .dataframe tbody tr th {\n",
       "        vertical-align: top;\n",
       "    }\n",
       "\n",
       "    .dataframe thead th {\n",
       "        text-align: right;\n",
       "    }\n",
       "</style>\n",
       "<table border=\"1\" class=\"dataframe\">\n",
       "  <thead>\n",
       "    <tr style=\"text-align: right;\">\n",
       "      <th></th>\n",
       "      <th>count</th>\n",
       "      <th>median</th>\n",
       "    </tr>\n",
       "    <tr>\n",
       "      <th>neighbourhood</th>\n",
       "      <th></th>\n",
       "      <th></th>\n",
       "    </tr>\n",
       "  </thead>\n",
       "  <tbody>\n",
       "    <tr>\n",
       "      <th>la Dreta de l'Eixample</th>\n",
       "      <td>2029</td>\n",
       "      <td>159.0</td>\n",
       "    </tr>\n",
       "    <tr>\n",
       "      <th>el Raval</th>\n",
       "      <td>1251</td>\n",
       "      <td>69.0</td>\n",
       "    </tr>\n",
       "    <tr>\n",
       "      <th>el Barri Gòtic</th>\n",
       "      <td>1064</td>\n",
       "      <td>77.0</td>\n",
       "    </tr>\n",
       "    <tr>\n",
       "      <th>Sant Pere, Santa Caterina i la Ribera</th>\n",
       "      <td>979</td>\n",
       "      <td>82.0</td>\n",
       "    </tr>\n",
       "    <tr>\n",
       "      <th>la Vila de Gràcia</th>\n",
       "      <td>943</td>\n",
       "      <td>111.0</td>\n",
       "    </tr>\n",
       "    <tr>\n",
       "      <th>la Sagrada Família</th>\n",
       "      <td>942</td>\n",
       "      <td>125.5</td>\n",
       "    </tr>\n",
       "    <tr>\n",
       "      <th>l'Antiga Esquerra de l'Eixample</th>\n",
       "      <td>892</td>\n",
       "      <td>127.0</td>\n",
       "    </tr>\n",
       "    <tr>\n",
       "      <th>Sant Antoni</th>\n",
       "      <td>781</td>\n",
       "      <td>122.0</td>\n",
       "    </tr>\n",
       "    <tr>\n",
       "      <th>el Poble Sec</th>\n",
       "      <td>738</td>\n",
       "      <td>94.5</td>\n",
       "    </tr>\n",
       "    <tr>\n",
       "      <th>la Nova Esquerra de l'Eixample</th>\n",
       "      <td>612</td>\n",
       "      <td>90.0</td>\n",
       "    </tr>\n",
       "  </tbody>\n",
       "</table>\n",
       "</div>"
      ],
      "text/plain": [
       "                                       count  median\n",
       "neighbourhood                                       \n",
       "la Dreta de l'Eixample                  2029   159.0\n",
       "el Raval                                1251    69.0\n",
       "el Barri Gòtic                          1064    77.0\n",
       "Sant Pere, Santa Caterina i la Ribera    979    82.0\n",
       "la Vila de Gràcia                        943   111.0\n",
       "la Sagrada Família                       942   125.5\n",
       "l'Antiga Esquerra de l'Eixample          892   127.0\n",
       "Sant Antoni                              781   122.0\n",
       "el Poble Sec                             738    94.5\n",
       "la Nova Esquerra de l'Eixample           612    90.0"
      ]
     },
     "execution_count": 20,
     "metadata": {},
     "output_type": "execute_result"
    }
   ],
   "source": [
    "df.groupby(by='neighbourhood')['price'].agg(['count', 'median']).sort_values(by='count', ascending=False).head(10)"
   ]
  },
  {
   "cell_type": "markdown",
   "id": "9f7ca0c9",
   "metadata": {},
   "source": [
    "We find that some popular neighbourhoods have low prices. This seems to happen in the \"old town\", where the appartments probably have worse housing conditions. "
   ]
  }
 ],
 "metadata": {
  "kernelspec": {
   "display_name": "Python 3 (ipykernel)",
   "language": "python",
   "name": "python3"
  },
  "language_info": {
   "codemirror_mode": {
    "name": "ipython",
    "version": 3
   },
   "file_extension": ".py",
   "mimetype": "text/x-python",
   "name": "python",
   "nbconvert_exporter": "python",
   "pygments_lexer": "ipython3",
   "version": "3.11.5"
  }
 },
 "nbformat": 4,
 "nbformat_minor": 5
}
