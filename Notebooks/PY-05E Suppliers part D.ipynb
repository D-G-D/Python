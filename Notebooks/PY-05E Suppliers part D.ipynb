{
 "cells": [
  {
   "cell_type": "markdown",
   "id": "1bed2f90",
   "metadata": {},
   "source": [
    "# [PY-05E] Orders to suppliers (Part D)"
   ]
  },
  {
   "cell_type": "code",
   "execution_count": 1,
   "id": "a2abccd1",
   "metadata": {},
   "outputs": [],
   "source": [
    "components = ('cabling', 'processor', 'memory', 'camera', 'network interface', 'battery', 'charger', 'high_resolution_screen')\n",
    "quantity = (1, 4, 1, 6, 1, 2, 1, 1)\n",
    "regional = (True, False, False, False, False, False, True, False)\n",
    "cost = [2, 15, 9, 17, 5, 6, 4, 38]\n",
    "labels = ['M04-NA-20', 'M04-EU-40', 'M04-EU-37', 'M04-JP-30', 'M04-NA-100', 'M04-EU-80']"
   ]
  },
  {
   "cell_type": "markdown",
   "id": "8778e18b",
   "metadata": {},
   "source": [
    "## Create a function that given the index of the list, returns the cost of a component. Components that are regional specific have an additional cost of 5/unit (EU) and 4/unit (JP)."
   ]
  },
  {
   "cell_type": "code",
   "execution_count": 2,
   "id": "b2cef879",
   "metadata": {},
   "outputs": [],
   "source": [
    "def component_cost(index):\n",
    "    unit_cost = cost[index]\n",
    "    return unit_cost"
   ]
  },
  {
   "cell_type": "code",
   "execution_count": 3,
   "id": "eca061ad",
   "metadata": {},
   "outputs": [
    {
     "data": {
      "text/plain": [
       "2"
      ]
     },
     "execution_count": 3,
     "metadata": {},
     "output_type": "execute_result"
    }
   ],
   "source": [
    "component_cost(0)"
   ]
  },
  {
   "cell_type": "code",
   "execution_count": 4,
   "id": "eca4c8a6",
   "metadata": {},
   "outputs": [],
   "source": [
    "def component_cost(index, location):\n",
    "    if location == 'EU':\n",
    "        unit_cost = cost[index] + 5\n",
    "    elif location == 'JP':\n",
    "        unit_cost = cost[index] + 4\n",
    "    else:\n",
    "        unit_cost = cost[index] \n",
    "    return unit_cost"
   ]
  },
  {
   "cell_type": "code",
   "execution_count": 5,
   "id": "5c8bc2f4",
   "metadata": {},
   "outputs": [
    {
     "data": {
      "text/plain": [
       "2"
      ]
     },
     "execution_count": 5,
     "metadata": {},
     "output_type": "execute_result"
    }
   ],
   "source": [
    "component_cost(0, 'NA')"
   ]
  },
  {
   "cell_type": "code",
   "execution_count": 6,
   "id": "4698a614",
   "metadata": {},
   "outputs": [
    {
     "data": {
      "text/plain": [
       "7"
      ]
     },
     "execution_count": 6,
     "metadata": {},
     "output_type": "execute_result"
    }
   ],
   "source": [
    "component_cost(0, 'EU')"
   ]
  },
  {
   "cell_type": "code",
   "execution_count": 7,
   "id": "e8efb98e",
   "metadata": {},
   "outputs": [
    {
     "data": {
      "text/plain": [
       "6"
      ]
     },
     "execution_count": 7,
     "metadata": {},
     "output_type": "execute_result"
    }
   ],
   "source": [
    "component_cost(0, 'JP')"
   ]
  },
  {
   "cell_type": "code",
   "execution_count": 8,
   "id": "9a1b5d53",
   "metadata": {
    "scrolled": true
   },
   "outputs": [
    {
     "data": {
      "text/plain": [
       "15"
      ]
     },
     "execution_count": 8,
     "metadata": {},
     "output_type": "execute_result"
    }
   ],
   "source": [
    "component_cost(1, 'NA')"
   ]
  },
  {
   "cell_type": "code",
   "execution_count": 9,
   "id": "f05bace0",
   "metadata": {},
   "outputs": [
    {
     "data": {
      "text/plain": [
       "20"
      ]
     },
     "execution_count": 9,
     "metadata": {},
     "output_type": "execute_result"
    }
   ],
   "source": [
    "component_cost(1, 'EU')"
   ]
  },
  {
   "cell_type": "code",
   "execution_count": 10,
   "id": "0f8fcb6e",
   "metadata": {},
   "outputs": [
    {
     "data": {
      "text/plain": [
       "19"
      ]
     },
     "execution_count": 10,
     "metadata": {},
     "output_type": "execute_result"
    }
   ],
   "source": [
    "component_cost(1, 'JP')"
   ]
  },
  {
   "cell_type": "code",
   "execution_count": 11,
   "id": "a89d3b90",
   "metadata": {},
   "outputs": [],
   "source": [
    "def component_cost(index, location):\n",
    "    if location == 'EU' and regional[index]:\n",
    "        unit_cost = cost[index] + 5\n",
    "    elif location == 'JP'and regional[index]:\n",
    "        unit_cost = cost[index] + 4\n",
    "    else:\n",
    "        unit_cost = cost[index] \n",
    "    return unit_cost"
   ]
  },
  {
   "cell_type": "code",
   "execution_count": 12,
   "id": "84539ec1",
   "metadata": {},
   "outputs": [
    {
     "data": {
      "text/plain": [
       "2"
      ]
     },
     "execution_count": 12,
     "metadata": {},
     "output_type": "execute_result"
    }
   ],
   "source": [
    "component_cost(0, 'NA')"
   ]
  },
  {
   "cell_type": "code",
   "execution_count": 13,
   "id": "015e5c12",
   "metadata": {},
   "outputs": [
    {
     "data": {
      "text/plain": [
       "7"
      ]
     },
     "execution_count": 13,
     "metadata": {},
     "output_type": "execute_result"
    }
   ],
   "source": [
    "component_cost(0, 'EU')"
   ]
  },
  {
   "cell_type": "code",
   "execution_count": 14,
   "id": "1a7595cd",
   "metadata": {},
   "outputs": [
    {
     "data": {
      "text/plain": [
       "6"
      ]
     },
     "execution_count": 14,
     "metadata": {},
     "output_type": "execute_result"
    }
   ],
   "source": [
    "component_cost(0, 'JP')"
   ]
  },
  {
   "cell_type": "code",
   "execution_count": 15,
   "id": "645ed55b",
   "metadata": {
    "scrolled": true
   },
   "outputs": [
    {
     "data": {
      "text/plain": [
       "15"
      ]
     },
     "execution_count": 15,
     "metadata": {},
     "output_type": "execute_result"
    }
   ],
   "source": [
    "component_cost(1, 'NA')"
   ]
  },
  {
   "cell_type": "code",
   "execution_count": 16,
   "id": "4d18e001",
   "metadata": {},
   "outputs": [
    {
     "data": {
      "text/plain": [
       "15"
      ]
     },
     "execution_count": 16,
     "metadata": {},
     "output_type": "execute_result"
    }
   ],
   "source": [
    "component_cost(1, 'EU')"
   ]
  },
  {
   "cell_type": "code",
   "execution_count": 17,
   "id": "0a0cd370",
   "metadata": {},
   "outputs": [
    {
     "data": {
      "text/plain": [
       "15"
      ]
     },
     "execution_count": 17,
     "metadata": {},
     "output_type": "execute_result"
    }
   ],
   "source": [
    "component_cost(1, 'JP')"
   ]
  },
  {
   "cell_type": "markdown",
   "id": "e27da174",
   "metadata": {},
   "source": [
    "## Create a function that returns the total cost based on the label. Calculate the cost of each order."
   ]
  },
  {
   "cell_type": "code",
   "execution_count": 18,
   "id": "1b858273",
   "metadata": {},
   "outputs": [],
   "source": [
    "label = 'M04-NA-20'"
   ]
  },
  {
   "cell_type": "code",
   "execution_count": 19,
   "id": "8bd638fe",
   "metadata": {},
   "outputs": [
    {
     "data": {
      "text/plain": [
       "20"
      ]
     },
     "execution_count": 19,
     "metadata": {},
     "output_type": "execute_result"
    }
   ],
   "source": [
    "int(label[7:])"
   ]
  },
  {
   "cell_type": "code",
   "execution_count": 20,
   "id": "10fa877a",
   "metadata": {},
   "outputs": [
    {
     "data": {
      "text/plain": [
       "'NA'"
      ]
     },
     "execution_count": 20,
     "metadata": {},
     "output_type": "execute_result"
    }
   ],
   "source": [
    "label[4:6]"
   ]
  },
  {
   "cell_type": "code",
   "execution_count": 21,
   "id": "21f5f5ed",
   "metadata": {},
   "outputs": [],
   "source": [
    "def order_cost(label):\n",
    "    units = int(label[7:])\n",
    "    location = label[4:6]\n",
    "    total_cost = component_cost(0, location) * quantity[0] * units + \\\n",
    "                    component_cost(1, location) * quantity[1] * units + \\\n",
    "                    component_cost(2, location) * quantity[2] * units + \\\n",
    "                    component_cost(3, location) * quantity[3] * units + \\\n",
    "                    component_cost(4, location) * quantity[4] * units + \\\n",
    "                    component_cost(5, location) * quantity[5] * units + \\\n",
    "                    component_cost(6, location) * quantity[6] * units + \\\n",
    "                    component_cost(7, location) * quantity[7] * units\n",
    "    return total_cost"
   ]
  },
  {
   "cell_type": "code",
   "execution_count": 22,
   "id": "754079ec",
   "metadata": {},
   "outputs": [
    {
     "data": {
      "text/plain": [
       "4640"
      ]
     },
     "execution_count": 22,
     "metadata": {},
     "output_type": "execute_result"
    }
   ],
   "source": [
    "order_cost(labels[0])"
   ]
  },
  {
   "cell_type": "code",
   "execution_count": 23,
   "id": "90607a8a",
   "metadata": {},
   "outputs": [],
   "source": [
    "def order_cost(label):\n",
    "    units = int(label[7:])\n",
    "    location = label[4:6]\n",
    "    total_cost = 0\n",
    "    for i in range(8):\n",
    "        total_cost = total_cost + component_cost(i, location) * quantity[i] * units\n",
    "    return total_cost"
   ]
  },
  {
   "cell_type": "code",
   "execution_count": 24,
   "id": "f7e84476",
   "metadata": {},
   "outputs": [
    {
     "data": {
      "text/plain": [
       "4640"
      ]
     },
     "execution_count": 24,
     "metadata": {},
     "output_type": "execute_result"
    }
   ],
   "source": [
    "order_cost(labels[0])"
   ]
  },
  {
   "cell_type": "code",
   "execution_count": 25,
   "id": "0a29f151",
   "metadata": {},
   "outputs": [
    {
     "data": {
      "text/plain": [
       "[4640, 9680, 8954, 7200, 23200, 19360]"
      ]
     },
     "execution_count": 25,
     "metadata": {},
     "output_type": "execute_result"
    }
   ],
   "source": [
    "order_total = []\n",
    "for label in labels:\n",
    "    order_total = order_total + [order_cost(label)]\n",
    "order_total"
   ]
  },
  {
   "cell_type": "code",
   "execution_count": 26,
   "id": "59e5c6c3",
   "metadata": {},
   "outputs": [
    {
     "data": {
      "text/plain": [
       "[4640, 9680, 8954, 7200, 23200, 19360]"
      ]
     },
     "execution_count": 26,
     "metadata": {},
     "output_type": "execute_result"
    }
   ],
   "source": [
    "[order_cost(label) for label in labels]"
   ]
  },
  {
   "cell_type": "markdown",
   "id": "8517d63b",
   "metadata": {},
   "source": [
    "## Capacity for the next production cycle is limited to 100 units. How many units will be made for each country, assuming that the orders are done in the same order as the list?"
   ]
  },
  {
   "cell_type": "code",
   "execution_count": 27,
   "id": "0736e0d3",
   "metadata": {},
   "outputs": [
    {
     "data": {
      "text/plain": [
       "{'EU': 77, 'NA': 20, 'JP': 3}"
      ]
     },
     "execution_count": 27,
     "metadata": {},
     "output_type": "execute_result"
    }
   ],
   "source": [
    "def production(capacity):\n",
    "    units_produced = {'EU':0, 'NA':0, 'JP':0}\n",
    "    index = 0\n",
    "    while capacity > 0:\n",
    "\n",
    "        units = int(labels[index][7:])\n",
    "        location = labels[index][4:6]\n",
    "\n",
    "        if capacity >= units:\n",
    "            produced = units\n",
    "        else:\n",
    "            produced = capacity\n",
    "        capacity = capacity - produced\n",
    "\n",
    "        units_produced[location] = units_produced[location] + produced\n",
    "        index = index + 1\n",
    "    return units_produced\n",
    "production(100)"
   ]
  },
  {
   "cell_type": "markdown",
   "id": "71600283",
   "metadata": {},
   "source": [
    "# What happens if we change the limit to 1000 units?"
   ]
  },
  {
   "cell_type": "code",
   "execution_count": 28,
   "id": "e5658838",
   "metadata": {},
   "outputs": [
    {
     "ename": "IndexError",
     "evalue": "list index out of range",
     "output_type": "error",
     "traceback": [
      "\u001b[1;31m---------------------------------------------------------------------------\u001b[0m",
      "\u001b[1;31mIndexError\u001b[0m                                Traceback (most recent call last)",
      "Cell \u001b[1;32mIn[28], line 1\u001b[0m\n\u001b[1;32m----> 1\u001b[0m production(\u001b[38;5;241m1000\u001b[39m)\n",
      "Cell \u001b[1;32mIn[27], line 6\u001b[0m, in \u001b[0;36mproduction\u001b[1;34m(capacity)\u001b[0m\n\u001b[0;32m      3\u001b[0m index \u001b[38;5;241m=\u001b[39m \u001b[38;5;241m0\u001b[39m\n\u001b[0;32m      4\u001b[0m \u001b[38;5;28;01mwhile\u001b[39;00m capacity \u001b[38;5;241m>\u001b[39m \u001b[38;5;241m0\u001b[39m:\n\u001b[1;32m----> 6\u001b[0m     units \u001b[38;5;241m=\u001b[39m \u001b[38;5;28mint\u001b[39m(labels[index][\u001b[38;5;241m7\u001b[39m:])\n\u001b[0;32m      7\u001b[0m     location \u001b[38;5;241m=\u001b[39m labels[index][\u001b[38;5;241m4\u001b[39m:\u001b[38;5;241m6\u001b[39m]\n\u001b[0;32m      9\u001b[0m     \u001b[38;5;28;01mif\u001b[39;00m capacity \u001b[38;5;241m>\u001b[39m\u001b[38;5;241m=\u001b[39m units:\n",
      "\u001b[1;31mIndexError\u001b[0m: list index out of range"
     ]
    }
   ],
   "source": [
    "production(1000)"
   ]
  },
  {
   "cell_type": "code",
   "execution_count": null,
   "id": "0750eb0c",
   "metadata": {},
   "outputs": [],
   "source": [
    "def production(capacity):\n",
    "    units_produced = {'EU':0, 'NA':0, 'JP':0}\n",
    "    index = 0\n",
    "    while capacity > 0 and index < len(labels):\n",
    "\n",
    "        units = int(labels[index][7:])\n",
    "        location = labels[index][4:6]\n",
    "\n",
    "        if capacity >= units:\n",
    "            produced = units\n",
    "        else:\n",
    "            produced = capacity\n",
    "        capacity = capacity - produced\n",
    "\n",
    "        units_produced[location] = units_produced[location] + produced\n",
    "        index = index + 1\n",
    "    return units_produced\n",
    "production(1000)"
   ]
  },
  {
   "cell_type": "markdown",
   "id": "6e8b7d85",
   "metadata": {},
   "source": [
    "## Assume we keep the capacity limit of 100, but that we sort the orders from smaller to larger. Which orders will be fulfilled? How much will it be manufactured?"
   ]
  },
  {
   "cell_type": "code",
   "execution_count": 29,
   "id": "4fcde692",
   "metadata": {},
   "outputs": [
    {
     "data": {
      "text/plain": [
       "{'EU': 77, 'NA': 20, 'JP': 3}"
      ]
     },
     "execution_count": 29,
     "metadata": {},
     "output_type": "execute_result"
    }
   ],
   "source": [
    "production(100)"
   ]
  },
  {
   "cell_type": "code",
   "execution_count": 30,
   "id": "2fda2d65",
   "metadata": {},
   "outputs": [
    {
     "data": {
      "text/plain": [
       "['M04-NA-20', 'M04-JP-30', 'M04-EU-37', 'M04-EU-40', 'M04-EU-80', 'M04-NA-100']"
      ]
     },
     "execution_count": 30,
     "metadata": {},
     "output_type": "execute_result"
    }
   ],
   "source": [
    "original_labels = labels\n",
    "labels = []\n",
    "for label in original_labels:\n",
    "    units = int(label[7:])\n",
    "    index = 0\n",
    "    while index < len(labels) and units >= int(labels[index][7:]):\n",
    "        index = index + 1\n",
    "    labels.insert(index, label)\n",
    "labels"
   ]
  },
  {
   "cell_type": "code",
   "execution_count": 31,
   "id": "6d65f955",
   "metadata": {},
   "outputs": [
    {
     "data": {
      "text/plain": [
       "['M04-NA-20', 'M04-EU-40', 'M04-EU-37', 'M04-JP-30', 'M04-NA-100', 'M04-EU-80']"
      ]
     },
     "execution_count": 31,
     "metadata": {},
     "output_type": "execute_result"
    }
   ],
   "source": [
    "original_labels"
   ]
  },
  {
   "cell_type": "code",
   "execution_count": 32,
   "id": "d156110f",
   "metadata": {},
   "outputs": [
    {
     "data": {
      "text/plain": [
       "{'EU': 50, 'NA': 20, 'JP': 30}"
      ]
     },
     "execution_count": 32,
     "metadata": {},
     "output_type": "execute_result"
    }
   ],
   "source": [
    "production(100)"
   ]
  },
  {
   "cell_type": "code",
   "execution_count": null,
   "id": "9909de88",
   "metadata": {},
   "outputs": [],
   "source": []
  }
 ],
 "metadata": {
  "kernelspec": {
   "display_name": "Python 3 (ipykernel)",
   "language": "python",
   "name": "python3"
  },
  "language_info": {
   "codemirror_mode": {
    "name": "ipython",
    "version": 3
   },
   "file_extension": ".py",
   "mimetype": "text/x-python",
   "name": "python",
   "nbconvert_exporter": "python",
   "pygments_lexer": "ipython3",
   "version": "3.11.5"
  }
 },
 "nbformat": 4,
 "nbformat_minor": 5
}
