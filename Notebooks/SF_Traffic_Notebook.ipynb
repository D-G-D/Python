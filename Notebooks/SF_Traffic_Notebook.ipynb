{
 "cells": [
  {
   "cell_type": "markdown",
   "id": "dd0df668",
   "metadata": {},
   "source": [
    "# Traffic Crashes in the City of San Francisco\n",
    "\n",
    "## About the data\n",
    "\n",
    "**Source:** This data contains public information about the crashes resulting in an injury in the City of San Francisco. The datab was pulled from `TransBASE.sfgov.org` in July 2024. There are several types of report; this data is based on the \"Traffic Crashes Resulting in Injury: Parties Involved\" found in https://data.sfgov.org/d/8gtc-pjc6/). \n",
    "\n",
    "**Preprocessing**: Some columns from the original data were dropped. For those remaining, he content was modified as follows:\n",
    "- Date formats were changed to %m/%d/%Y %I:%M:%S %p\n",
    "- \"weather_1\" and \"weather_2\" columns: empty data replaced by \"Not Stated\", when \"Fog\" or 'Other\" strings are found, replace eliminate keep only \"Fog\" and \"Other\".\n",
    "- \"party_age\" column: negative values were removed.\n",
    "- \"tb_latitude\" and \"tb_longitude\" columns: numbers were rounded to 6 decimals.\n",
    "- \"vehicle_year\" column: contained values that were either errors or types.\n",
    "- \"vehicle_age\" added as the difference in between the year of the collision and the vehicle year; 0 when the difference is negative.\n",
    "- Data was only kept for collisions between 2016 and 2023, both included.\n",
    "\n",
    "The following code contains the exact transformation, with `df` being initialized using Pandas and the data downloaded from the above website.\n",
    "\n",
    "<code># df initialized with the downloaded data\n",
    "df['collision_datetime'] = pd.to_datetime(df['collision_datetime'], format='%m/%d/%Y %I:%M:%S %p')\n",
    "for column in ['weather_1', 'weather_2']:\n",
    "    df.loc[df[column].isna(), column] = 'Not Stated'\n",
    "    df.loc[df[column].str.contains('Fog'), column] = 'Fog'\n",
    "    df.loc[df[column].str.contains('Other'), column] = 'Other'\n",
    "for column in ['party_age']:\n",
    "    df.loc[df[column] < 0, column] = None\n",
    "for column in ['tb_latitude', 'tb_longitude']:\n",
    "    df[column] = df[column].round(6)\n",
    "if df.columns.str.contains('vehicle_year').sum() > 0:\n",
    "    f = (df['vehicle_year'] >= 2024) | ((df['vehicle_year'] >= 224) & (df['vehicle_year'] < 1900))\n",
    "    df.loc[df[f].index, 'vehicle_year'] = df.loc[df[f].index, 'vehicle_year']%100\n",
    "    f = df['vehicle_year'] < 24\n",
    "    df.loc[df[f].index, 'vehicle_year'] = df.loc[df[f].index, 'vehicle_year'] + 2000\n",
    "    f = (df['vehicle_year'] >= 24) & (df['vehicle_year'] <= 99)\n",
    "    df.loc[df[f].index, 'vehicle_year'] = df.loc[df[f].index, 'vehicle_year'] + 1900\n",
    "    f = (df['vehicle_year'] >= 100) & (df['vehicle_year'] <= 199)\n",
    "    df.loc[df[f].index, 'vehicle_year'] = df.loc[df[f].index, 'vehicle_year'] + 1800    \n",
    "    f = (df['vehicle_year'] >= 200) & (df['vehicle_year'] < 224)\n",
    "    df.loc[df[f].index, 'vehicle_year'] = df.loc[df[f].index, 'vehicle_year'] + 1800    \n",
    "    f = (df['collision_datetime'].dt.year-df['vehicle_year']) < 0\n",
    "    df.loc[df[f].index, 'vehicle_year'] = df[f]['collision_datetime'].dt.year\n",
    "df['vehicle_age'] = (df['collision_datetime'].dt.year-df['vehicle_year']).astype(pd.Int64Dtype())\n",
    "df[(df['collision_datetime'].dt.year >= 2016) & (df['collision_datetime'].dt.year <= 2023)].to_csv('sf_traffic.csv', sep=',')</code>\n",
    "\n",
    "                                                                                                  \n",
    "The resulting data is available on GitHub `https://github.com/D-G-D/Python/blob/main/Data/sf_traffic.csv`.\n",
    "\n",
    "**Data format**: Each row of of the data contains the information of a party involved in an accident. The row contains also information about the accident itself, that is the same for all parties (for example: the road where the accident ocurred). The following columns are available: \n",
    "\n",
    "- `unique_id`: a unique identifier for each record.\n",
    "- `case_id_pkey`: the unique identifier of the crash case.\n",
    "- `tb_latitude`: latitude of the location where the collision occurred.\n",
    "- `tb_longitude`: longitude of the location where the collision occurred.\n",
    "- `collision_datetime`: date and time when the collision took place.\n",
    "- `officer_id`: an ID of the officer who wrote the crash report.\n",
    "- `primary_rd`: the road where the collision occurred.\n",
    "- `secondary_rd`: a secondary reference road that `distance` and `direction` are measured from.\n",
    "- `distance`: distance in ft from a known reference point (often the nearest milepost or intersection).\n",
    "- `direction`: direction of `distance`.\n",
    "- `weather_1`: primary weather condition at the time of the collision.\n",
    "- `weather_2`: additional weather condition at the time of the collision.\n",
    "- `collision_severity`: the injury level severity of the crash (highest level of injury in crash)\n",
    "- `type_of_collision`: the general type of crash as determined by the first injury or damage-causing event.\n",
    "- `mviw`: motor vehicle involved with; describes what, in conjunction with a motor vehicle in-transport, produced the first injury or damage-causing event, on or off the road.\n",
    "- `ped_action`: the action just prior to the crash of the first pedestrian injured or otherwise involved.    \n",
    "- `road_surface`: roadway surface condition at the time of the crash in the traffic lane(s) involved.    \n",
    "- `road_cond_1`: roadway condition at the time of the crash in the traffic lane(s) involved..\n",
    "- `road_cond_2`: road condition, if a second description is necessary.\n",
    "- `lighting`: lighting conditions at the crash location and the time of the crash.\n",
    "- `control_device`: presence and condition of crash related traffic control devices at the time of the crash. Control devices include regulatory, warning, and construction signs. This excludes striping and officers or other persons directing traffic.\n",
    "- `vz_pcf_description`: description of the California vehicle code primary collision factor violated.\n",
    "- `dph_col_grp_description`: description of crash groupings.\n",
    "- `party_number_ckey`: a unique identifier for each party involved in the crash. Used in combination with `case_id_pkey` to identify unique party.    \n",
    "- `party_type`: type of party involved.\n",
    "- `at_fault`: indicates if the party was at fault for the crash (Yes/No).\n",
    "- `party_sex`: gender of the party involved.\n",
    "- `party_age`: age of the party involved.\n",
    "- `race`: racial classification of the party involved.\n",
    "- `party_sobriety`: the state of sobriety of the party.    \n",
    "- `party_safety_equip_1`: safety equipment used by the party (e.g. seat belt).\n",
    "- `party_safety_equip_2`: additional safety equipment used by the party, if any.\n",
    "- `finan_respons`: financial responsibility of the party.\n",
    "- `party_number_killed`: number of fatalities for the party involved.\n",
    "- `party_number_injured`: number of injuries for the party involved.    \n",
    "- `move_pre_acc`: movement of the party before the collision.\n",
    "- `vehicle_year`: year of the vehicle involved.\n",
    "- `vehicle_make`: make/brand of the vehicle involved.\n",
    "- `vehicle_age`: age of the vehicle involved in the crash, in years.\n",
    "- `Current Police Districts`: police district in which the collision occurred.\n",
    "- `Current Supervisor Districts`: supervisory district where the incident occurred.\n",
    "    \n",
    "Note: column descriptions from https://data.sfgov.org/Public-Safety/Traffic-Crashes-Resulting-in-Injury-Parties-Involv/8gtc-pjc6/about_data and https://tims.berkeley.edu/help/SWITRS.php."
   ]
  },
  {
   "cell_type": "markdown",
   "id": "2042908e",
   "metadata": {},
   "source": [
    "## Python Initialization"
   ]
  },
  {
   "cell_type": "markdown",
   "id": "85d8610c",
   "metadata": {},
   "source": [
    "First, we import pandas. Then, we read the data file (a csv) as a DataFrame, and store it in the variable `df`. The column `case_id_pkey` contains mixed data types (strings mixed with numbers). Using `dtype={'case_id_pkey': str}`, we specify we want to read it as a string."
   ]
  },
  {
   "cell_type": "code",
   "execution_count": null,
   "id": "010f0127",
   "metadata": {},
   "outputs": [],
   "source": [
    "import pandas as pd"
   ]
  },
  {
   "cell_type": "code",
   "execution_count": null,
   "id": "afa1a291",
   "metadata": {},
   "outputs": [],
   "source": [
    "df = pd.read_csv('https://raw.githubusercontent.com/D-G-D/Python/main/Data/sf_traffic.csv', dtype={'case_id_pkey': str})"
   ]
  },
  {
   "cell_type": "markdown",
   "id": "ae1ffa04",
   "metadata": {},
   "source": [
    "## Exploration\n",
    "Add here all the code you run before answering the questions, in one or multiple code cells, and explain what you are doing."
   ]
  },
  {
   "cell_type": "code",
   "execution_count": null,
   "id": "5a903b3d",
   "metadata": {},
   "outputs": [],
   "source": []
  },
  {
   "cell_type": "markdown",
   "id": "c6092b46",
   "metadata": {},
   "source": [
    "# Questions"
   ]
  },
  {
   "cell_type": "markdown",
   "id": "0ae2b5c6",
   "metadata": {},
   "source": [
    "### Question 1. Are there any missing values in the data? If yes, what field is missing the most values?"
   ]
  },
  {
   "cell_type": "code",
   "execution_count": null,
   "id": "e1f7cda9",
   "metadata": {},
   "outputs": [],
   "source": []
  },
  {
   "cell_type": "markdown",
   "id": "991c650d",
   "metadata": {},
   "source": [
    "Answer:"
   ]
  },
  {
   "cell_type": "markdown",
   "id": "59d577ae",
   "metadata": {},
   "source": [
    "### Question 2. Are there any duplicate rows in the data? If yes, drop them."
   ]
  },
  {
   "cell_type": "code",
   "execution_count": null,
   "id": "db9e75e8",
   "metadata": {},
   "outputs": [],
   "source": []
  },
  {
   "cell_type": "markdown",
   "id": "2b0e0a84",
   "metadata": {},
   "source": [
    "Answer:"
   ]
  },
  {
   "cell_type": "markdown",
   "id": "5dbf2825",
   "metadata": {},
   "source": [
    "### Question 3. Are there any duplications of crash data?\n",
    "Take the following list of columns `columns_list`. Are there any duplicated rows if we only look at those columns? Which % of the total they represent? Explain why this happens in the data."
   ]
  },
  {
   "cell_type": "code",
   "execution_count": null,
   "id": "8b19d9ac",
   "metadata": {},
   "outputs": [],
   "source": [
    "columns_list = ['case_id_pkey', 'tb_latitude', 'tb_longitude', 'collision_datetime',\n",
    "       'officer_id', 'primary_rd', 'secondary_rd', 'distance', 'direction',\n",
    "       'weather_1', 'weather_2', 'collision_severity', 'type_of_collision',\n",
    "       'mviw', 'ped_action', 'road_surface', 'road_cond_1', 'road_cond_2',\n",
    "       'lighting', 'control_device', 'vz_pcf_description',\n",
    "       'dph_col_grp_description']"
   ]
  },
  {
   "cell_type": "code",
   "execution_count": null,
   "id": "5ae6d362",
   "metadata": {},
   "outputs": [],
   "source": []
  },
  {
   "cell_type": "markdown",
   "id": "4f99d313",
   "metadata": {},
   "source": [
    "Answer:"
   ]
  },
  {
   "cell_type": "markdown",
   "id": "cc420964",
   "metadata": {},
   "source": [
    "### Question 4. Define a new column `intersection`.\n",
    "The original data has a column `intersection` that isn't a Yes/No column as per the definition in the Statewide Integrated Traffic Records System (SWITRS, `https://tims.berkeley.edu/help/SWITRS.php`) codebook. Instead, it seems to define an intersection as any crash happening at most 20 feet from the intersection itself. However, there is one value (`Intersection Rear End <= 150ft` that would contradict this definition.\n",
    "\n",
    "To start, let's take any row with `distance` smaller or equal to 20 ft as an intersection. Create a column named `intersection` that is True/False based on this definition. How many rows meet the criteria?"
   ]
  },
  {
   "cell_type": "code",
   "execution_count": null,
   "id": "4487ab27",
   "metadata": {},
   "outputs": [],
   "source": []
  },
  {
   "cell_type": "markdown",
   "id": "85af2cf7",
   "metadata": {},
   "source": [
    "Answer:"
   ]
  },
  {
   "cell_type": "markdown",
   "id": "7ef6a3fc",
   "metadata": {},
   "source": [
    "### Question 5: Evaluate the impact of the \"20 ft\" choice.\n",
    "Repeat question 4, but this time do it for all values of the distance threshold between 0 and 150 (20ft in Q4). Calculate the % of all rows that are interesctions. Plot the result (x-axis: distance threshold, y-axis: % of rows)."
   ]
  },
  {
   "cell_type": "code",
   "execution_count": null,
   "id": "ff91aa0f",
   "metadata": {},
   "outputs": [],
   "source": []
  },
  {
   "cell_type": "markdown",
   "id": "ec8e7a65",
   "metadata": {},
   "source": [
    "Answer:"
   ]
  },
  {
   "cell_type": "markdown",
   "id": "612c293f",
   "metadata": {},
   "source": [
    "### Question 6: What does the distribution of the party_number_injured column look like? When plotting it, is the default scale appropiate?"
   ]
  },
  {
   "cell_type": "code",
   "execution_count": null,
   "id": "65b44c53",
   "metadata": {},
   "outputs": [],
   "source": []
  },
  {
   "cell_type": "markdown",
   "id": "075cb6de",
   "metadata": {},
   "source": [
    "Answer:"
   ]
  },
  {
   "cell_type": "markdown",
   "id": "e593133b",
   "metadata": {},
   "source": [
    "### Question 7. Are the columns `vehicle_year`and `vehicle_age` associated? Justify your answer."
   ]
  },
  {
   "cell_type": "code",
   "execution_count": null,
   "id": "384f4f73",
   "metadata": {},
   "outputs": [],
   "source": []
  },
  {
   "cell_type": "markdown",
   "id": "d5f125a5",
   "metadata": {},
   "source": [
    "Answer:"
   ]
  },
  {
   "cell_type": "markdown",
   "id": "dc9a4c57",
   "metadata": {},
   "source": [
    "### Question 8. Case data for injuries and lighting.\n",
    "Filter the DataFrame to keep only the columns `case_id_pkey`, `lighting` and `party_number_injured`. Then, use `.groupby()` to calculate for each combination of `case_id_pkey` and `lighting` the sum of `party_number_injured`. What is the meaning of the resulting table?"
   ]
  },
  {
   "cell_type": "code",
   "execution_count": null,
   "id": "481a0860",
   "metadata": {},
   "outputs": [],
   "source": []
  },
  {
   "cell_type": "markdown",
   "id": "af90e8a1",
   "metadata": {},
   "source": [
    "Answer:"
   ]
  },
  {
   "cell_type": "markdown",
   "id": "1d98ceb2",
   "metadata": {},
   "source": [
    "### Question 9: Investigate the impact of lighting to injuries.\n",
    "First, use the code from the previous question to store the result in new variable `df_bycase`. Add `as_index=False` in the `.groupby()` to add all the values as columns instead of some as index. Then, keep the `lighting` and `party_number_injured` columns.\n",
    "\n",
    "Use the new variable `df_bycase` to `groupby` again, this time calculating the average value of `party_number_injured` for each possible value of `lighting`. What is the meaning of the new table? What conclusions do you draw from the result?"
   ]
  },
  {
   "cell_type": "code",
   "execution_count": null,
   "id": "cc88a80e",
   "metadata": {},
   "outputs": [],
   "source": []
  },
  {
   "cell_type": "markdown",
   "id": "df8872b2",
   "metadata": {},
   "source": [
    "Answer:"
   ]
  },
  {
   "cell_type": "markdown",
   "id": "714311f7",
   "metadata": {},
   "source": [
    "### Question 10. Extend your analysis to other parameters.\n",
    "Leveraging the code from the previous question, repeat the analysis for 2 more columns other than `lighting`. If you can, re-define the code as a function that takes the column name as a parameter."
   ]
  },
  {
   "cell_type": "code",
   "execution_count": null,
   "id": "1f106717",
   "metadata": {},
   "outputs": [],
   "source": []
  },
  {
   "cell_type": "markdown",
   "id": "95425aac",
   "metadata": {},
   "source": [
    "Answer:"
   ]
  }
 ],
 "metadata": {
  "kernelspec": {
   "display_name": "Python 3 (ipykernel)",
   "language": "python",
   "name": "python3"
  },
  "language_info": {
   "codemirror_mode": {
    "name": "ipython",
    "version": 3
   },
   "file_extension": ".py",
   "mimetype": "text/x-python",
   "name": "python",
   "nbconvert_exporter": "python",
   "pygments_lexer": "ipython3",
   "version": "3.11.5"
  }
 },
 "nbformat": 4,
 "nbformat_minor": 5
}
